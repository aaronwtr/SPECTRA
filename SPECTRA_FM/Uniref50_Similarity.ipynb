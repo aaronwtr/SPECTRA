{
 "cells": [
  {
   "cell_type": "code",
   "execution_count": 1,
   "metadata": {},
   "outputs": [],
   "source": [
    "from Bio import Align\n",
    "import pandas as pd\n",
    "from sklearn.model_selection import train_test_split\n",
    "import numpy as np\n",
    "from tqdm import tqdm\n",
    "import random\n",
    "import matplotlib.pyplot as plt\n",
    "%matplotlib inline  "
   ]
  },
  {
   "cell_type": "markdown",
   "metadata": {},
   "source": [
    "# Figure 5A\n",
    "\n",
    "### Calculating similarity between selected Uniref50 clusters and representative sequences for the particular task"
   ]
  },
  {
   "cell_type": "code",
   "execution_count": 2,
   "metadata": {},
   "outputs": [],
   "source": [
    "def align_overlap(input):\n",
    "    i = input[0]\n",
    "    j = input[1]\n",
    "\n",
    "    count = 0\n",
    "    diff = 0\n",
    "\n",
    "    for orig, n in zip(i, j):\n",
    "        if orig != n:\n",
    "            diff += 1\n",
    "        count += 1\n",
    "\n",
    "    return 1 - diff/count\n",
    "\n",
    "\n",
    "def extract_sequence_sequence_similarity(compare, to_compare):\n",
    "\n",
    "    aligner = Align.PairwiseAligner()\n",
    "\n",
    "    aligner.match_score = 1.0\n",
    "    aligner.mismatch_score = -2.0\n",
    "    aligner.gap_score = -2.5\n",
    "    result = []\n",
    "    for i in to_compare:\n",
    "        alignment = aligner.align(compare, i)[0]\n",
    "        overlap = align_overlap(alignment)\n",
    "        result.append(overlap)\n",
    "        \n",
    "    return result\n",
    "        \n",
    "        "
   ]
  },
  {
   "cell_type": "code",
   "execution_count": 3,
   "metadata": {},
   "outputs": [],
   "source": [
    "def extract_sequences(filename, wildtype=False):\n",
    "    sequences = []\n",
    "    seq = ''\n",
    "    include = True\n",
    "    for line in open(filename, 'r'):\n",
    "        if '>' in line:\n",
    "            if seq and include:\n",
    "                sequences.append(seq)\n",
    "                seq = ''\n",
    "        else:\n",
    "            seq += line.rstrip()\n",
    "    sequences.append(seq)\n",
    "    return sequences\n",
    "            "
   ]
  },
  {
   "cell_type": "markdown",
   "metadata": {},
   "source": [
    "### GFP Analysis"
   ]
  },
  {
   "cell_type": "code",
   "execution_count": 4,
   "metadata": {},
   "outputs": [],
   "source": [
    "sequences = extract_sequences(\"UniRef50_GFP_clusters.fasta\")\n",
    "wildtype_sequence = extract_sequences(\"GFP_wildtype.fasta\", wildtype=True)"
   ]
  },
  {
   "cell_type": "code",
   "execution_count": 5,
   "metadata": {},
   "outputs": [
    {
     "data": {
      "text/plain": [
       "['MSKGEELFTGVVPILVELDGDVNGHKFSVSGEGEGDATYGKLTLKFICTTGKLPVPWPTLVTTFSYGVQCFSRYPDHMKQHDFFKSAMPEGYVQERTIFFKDDGNYKTRAEVKFEGDTLVNRIELKGIDFKEDGNILGHKLEYNYNSHNVYIMADKQKNGIKVNFKIRHNIEDGSVQLADHYQQNTPIGDGPVLLPDNHYLSTQSALSKDPNEKRDHMVLLEFVTAAGITHGMDELYK']"
      ]
     },
     "execution_count": 5,
     "metadata": {},
     "output_type": "execute_result"
    }
   ],
   "source": [
    "wildtype_sequence"
   ]
  },
  {
   "cell_type": "code",
   "execution_count": 6,
   "metadata": {},
   "outputs": [
    {
     "name": "stdout",
     "output_type": "stream",
     "text": [
      "9\n"
     ]
    }
   ],
   "source": [
    "result_gfp = extract_sequence_sequence_similarity(wildtype_sequence[0], sequences)\n",
    "print(len([i for i in result_gfp if i > 0.4]))"
   ]
  },
  {
   "cell_type": "code",
   "execution_count": 7,
   "metadata": {},
   "outputs": [
    {
     "data": {
      "text/plain": [
       "(array([ 8., 15., 14.,  3.,  1.,  0.,  1.,  1.,  0.,  3.]),\n",
       " array([0.12605042, 0.21344538, 0.30084034, 0.38823529, 0.47563025,\n",
       "        0.56302521, 0.65042017, 0.73781513, 0.82521008, 0.91260504,\n",
       "        1.        ]),\n",
       " <BarContainer object of 10 artists>)"
      ]
     },
     "execution_count": 7,
     "metadata": {},
     "output_type": "execute_result"
    },
    {
     "data": {
      "image/png": "[encoded data removed]",
      "text/plain": [
       "<Figure size 432x288 with 1 Axes>"
      ]
     },
     "metadata": {
      "needs_background": "light"
     },
     "output_type": "display_data"
    }
   ],
   "source": [
    "plt.hist(result_gfp)"
   ]
  },
  {
   "cell_type": "markdown",
   "metadata": {},
   "source": [
    "### Covid Analysis"
   ]
  },
  {
   "cell_type": "code",
   "execution_count": 8,
   "metadata": {},
   "outputs": [],
   "source": [
    "sequences = extract_sequences(\"UniRef50_Spike_clusters.fasta\")\n",
    "wildtype_sequence = extract_sequences(\"covid_wildtype.fasta\", wildtype=True)"
   ]
  },
  {
   "cell_type": "code",
   "execution_count": 9,
   "metadata": {},
   "outputs": [
    {
     "name": "stdout",
     "output_type": "stream",
     "text": [
      "0\n"
     ]
    }
   ],
   "source": [
    "result_covid = extract_sequence_sequence_similarity(wildtype_sequence[0], sequences)\n",
    "print(len([i for i in result_covid if i > 0.4]))"
   ]
  },
  {
   "cell_type": "code",
   "execution_count": 10,
   "metadata": {},
   "outputs": [
    {
     "data": {
      "text/plain": [
       "(array([ 2.,  6., 23., 14., 11., 12., 31., 35., 27., 10.]),\n",
       " array([0.06965174, 0.09084191, 0.11203207, 0.13322224, 0.1544124 ,\n",
       "        0.17560257, 0.19679274, 0.2179829 , 0.23917307, 0.26036323,\n",
       "        0.2815534 ]),\n",
       " <BarContainer object of 10 artists>)"
      ]
     },
     "execution_count": 10,
     "metadata": {},
     "output_type": "execute_result"
    },
    {
     "data": {
      "image/png": "[encoded data removed]",
      "text/plain": [
       "<Figure size 432x288 with 1 Axes>"
      ]
     },
     "metadata": {
      "needs_background": "light"
     },
     "output_type": "display_data"
    }
   ],
   "source": [
    "plt.hist(result_covid)"
   ]
  },
  {
   "cell_type": "markdown",
   "metadata": {},
   "source": [
    "### RIF Analysis "
   ]
  },
  {
   "cell_type": "code",
   "execution_count": 11,
   "metadata": {},
   "outputs": [
    {
     "name": "stdout",
     "output_type": "stream",
     "text": [
      "rpoB\t0.20230029694488835\t359\n",
      "rpoC\t0.19002445364403842\t298\n",
      "Rv2752c\t0.2831110227407405\t236\n",
      "rpoA\t0.29073564389883033\t293\n"
     ]
    }
   ],
   "source": [
    "RIF_genes = ['rpoB', 'rpoC', 'Rv2752c', 'rpoA']\n",
    "RIF_results = []\n",
    "RIF_sub_means = []\n",
    "RIF_num_clusters = []\n",
    "\n",
    "for gene in RIF_genes:\n",
    "    sequences = extract_sequences(f\"UniRef50_{gene}_clusters.fasta\")\n",
    "    wildtype_sequence = extract_sequences(f\"{gene}_wildtype.fasta\", wildtype=True)\n",
    "    sub_result = extract_sequence_sequence_similarity(wildtype_sequence[0], sequences)\n",
    "    print(f\"{gene}\\t{np.mean(sub_result)}\\t{len([i for i in sub_result if i > 0.4])}\")\n",
    "    RIF_results.extend(sub_result)\n",
    "    RIF_num_clusters.append(len([i for i in sub_result if i > 0.4]))\n",
    "    RIF_sub_means.append(np.mean(sub_result))"
   ]
  },
  {
   "cell_type": "code",
   "execution_count": 12,
   "metadata": {},
   "outputs": [
    {
     "name": "stdout",
     "output_type": "stream",
     "text": [
      "1198\n"
     ]
    }
   ],
   "source": [
    "print(len([i for i in RIF_results if i >= 0.4]))"
   ]
  },
  {
   "cell_type": "code",
   "execution_count": 13,
   "metadata": {},
   "outputs": [
    {
     "data": {
      "text/plain": [
       "(array([2.763e+03, 2.214e+03, 4.070e+03, 1.344e+03, 8.930e+02, 1.530e+02,\n",
       "        2.100e+01, 3.000e+00, 3.000e+00, 4.000e+00]),\n",
       " array([0.01215805, 0.11076304, 0.20936802, 0.307973  , 0.40657799,\n",
       "        0.50518297, 0.60378795, 0.70239294, 0.80099792, 0.8996029 ,\n",
       "        0.99820789]),\n",
       " <BarContainer object of 10 artists>)"
      ]
     },
     "execution_count": 13,
     "metadata": {},
     "output_type": "execute_result"
    },
    {
     "data": {
      "image/png": "[encoded data removed]",
      "text/plain": [
       "<Figure size 432x288 with 1 Axes>"
      ]
     },
     "metadata": {
      "needs_background": "light"
     },
     "output_type": "display_data"
    }
   ],
   "source": [
    "plt.hist(RIF_results)"
   ]
  },
  {
   "cell_type": "markdown",
   "metadata": {},
   "source": [
    "### PZA Analysis"
   ]
  },
  {
   "cell_type": "code",
   "execution_count": 41,
   "metadata": {},
   "outputs": [
    {
     "name": "stdout",
     "output_type": "stream",
     "text": [
      "pncA\t0.3305439690759223\t60\n",
      "clpC1\t0.2049704419683218\t2\n",
      "panD\t0.3416574347955694\t230\n",
      "Rv1258c\t0.44368851585817143\t1\n",
      "PPE35\t0.10222672064777327\t0\n"
     ]
    }
   ],
   "source": [
    "PZA_genes = ['pncA', 'clpC1', 'panD', 'Rv1258c', 'PPE35']\n",
    "PZA_results = []\n",
    "PZA_sub_means = []\n",
    "PZA_num_clusters = []\n",
    "\n",
    "for gene in PZA_genes:\n",
    "    sequences = extract_sequences(f\"UniRef50_{gene}_clusters.fasta\")\n",
    "    wildtype_sequence = extract_sequences(f\"{gene}_wildtype.fasta\", wildtype=True)\n",
    "    sub_result = extract_sequence_sequence_similarity(wildtype_sequence[0], sequences)\n",
    "    print(f\"{gene}\\t{np.mean(sub_result)}\\t{len([i for i in sub_result if i > 0.4])}\")\n",
    "    PZA_num_clusters.append(len([i for i in sub_result if i > 0.4]))\n",
    "    PZA_results.extend(sub_result)\n",
    "    PZA_sub_means.append(np.mean(sub_result))\n",
    "    "
   ]
  },
  {
   "cell_type": "code",
   "execution_count": 45,
   "metadata": {},
   "outputs": [
    {
     "name": "stdout",
     "output_type": "stream",
     "text": [
      "293\n",
      "62\n"
     ]
    }
   ],
   "source": [
    "print(len([i for i in PZA_results if i > 0.4]))"
   ]
  },
  {
   "cell_type": "code",
   "execution_count": 47,
   "metadata": {},
   "outputs": [
    {
     "data": {
      "text/plain": [
       "(array([ 16., 206., 308., 342., 160.,  24.,  15.,   2.,   1.,   3.]),\n",
       " array([0.03905591, 0.13515032, 0.23124473, 0.32733914, 0.42343355,\n",
       "        0.51952796, 0.61562237, 0.71171677, 0.80781118, 0.90390559,\n",
       "        1.        ]),\n",
       " <BarContainer object of 10 artists>)"
      ]
     },
     "execution_count": 47,
     "metadata": {},
     "output_type": "execute_result"
    },
    {
     "data": {
      "image/png": "[encoded data removed]",
      "text/plain": [
       "<Figure size 432x288 with 1 Axes>"
      ]
     },
     "metadata": {
      "needs_background": "light"
     },
     "output_type": "display_data"
    }
   ],
   "source": [
    "plt.hist(PZA_results)"
   ]
  },
  {
   "cell_type": "markdown",
   "metadata": {},
   "source": [
    "### INH Analysis"
   ]
  },
  {
   "cell_type": "code",
   "execution_count": 48,
   "metadata": {},
   "outputs": [
    {
     "name": "stdout",
     "output_type": "stream",
     "text": [
      "mshA\t0.28340182059300656\t55\n",
      "Rv1258c\t0.44368851585817143\t1\n",
      "fabG1\t0.3210477472652025\t6\n",
      "inhA\t0.2858421862231409\t0\n",
      "furA\t0.45877784718777914\t11\n",
      "katG\t0.22132714546130913\t90\n",
      "ndh\t1.0\t1\n",
      "ahpC\t0.23279289036390707\t20\n",
      "Rv2752c\t0.2831110227407405\t236\n"
     ]
    }
   ],
   "source": [
    "INH_genes = ['mshA', 'Rv1258c', 'fabG1', 'inhA', 'furA', 'katG', 'ndh', 'ahpC', 'Rv2752c']\n",
    "INH_results = []\n",
    "sub_means = []\n",
    "INH_num_clusters = []\n",
    "for gene in INH_genes:\n",
    "    sequences = extract_sequences(f\"UniRef50_{gene}_clusters.fasta\")\n",
    "    wildtype_sequence = extract_sequences(f\"{gene}_wildtype.fasta\", wildtype=True)\n",
    "    sub_result = extract_sequence_sequence_similarity(wildtype_sequence[0], sequences)\n",
    "    print(f\"{gene}\\t{np.mean(sub_result)}\\t{len([i for i in sub_result if i > 0.4])}\")\n",
    "    INH_num_clusters.append(len([i for i in sub_result if i > 0.4]))\n",
    "    sub_means.append(np.mean(sub_result))\n",
    "    INH_results.extend(sub_result)\n",
    "    "
   ]
  },
  {
   "cell_type": "code",
   "execution_count": 49,
   "metadata": {},
   "outputs": [
    {
     "name": "stdout",
     "output_type": "stream",
     "text": [
      "0.258701110078928\n",
      "0.07329711054938576\n",
      "73\n",
      "420\n"
     ]
    }
   ],
   "source": [
    "print(len([i for i in INH_results if i > 0.4]))"
   ]
  },
  {
   "cell_type": "code",
   "execution_count": 50,
   "metadata": {},
   "outputs": [
    {
     "data": {
      "text/plain": [
       "(array([3.140e+02, 2.140e+03, 6.663e+03, 1.276e+03, 2.470e+02, 3.700e+01,\n",
       "        2.100e+01, 1.000e+00, 3.000e+00, 5.000e+00]),\n",
       " array([0.02162162, 0.11945946, 0.2172973 , 0.31513514, 0.41297297,\n",
       "        0.51081081, 0.60864865, 0.70648649, 0.80432432, 0.90216216,\n",
       "        1.        ]),\n",
       " <BarContainer object of 10 artists>)"
      ]
     },
     "execution_count": 50,
     "metadata": {},
     "output_type": "execute_result"
    },
    {
     "data": {
      "image/png": "[encoded data removed]",
      "text/plain": [
       "<Figure size 432x288 with 1 Axes>"
      ]
     },
     "metadata": {
      "needs_background": "light"
     },
     "output_type": "display_data"
    }
   ],
   "source": [
    "plt.hist(INH_results)"
   ]
  },
  {
   "cell_type": "markdown",
   "metadata": {},
   "source": [
    "### Now plotting the number of similar clusters in Uniref50 versus ESM2 AUSPC"
   ]
  },
  {
   "cell_type": "code",
   "execution_count": 69,
   "metadata": {},
   "outputs": [
    {
     "name": "stdout",
     "output_type": "stream",
     "text": [
      "0.9999999999999999\n",
      "1.4042654220543672e-24\n",
      "1.0\n",
      "0.0\n"
     ]
    },
    {
     "data": {
      "image/png": "[encoded data removed]",
      "text/plain": [
       "<Figure size 432x288 with 1 Axes>"
      ]
     },
     "metadata": {
      "needs_background": "light"
     },
     "output_type": "display_data"
    }
   ],
   "source": [
    "from scipy import stats\n",
    "import seaborn as sns\n",
    "average_cluster_num = [np.mean(PZA_num_clusters), np.mean(INH_num_clusters),np.mean(RIF_num_clusters), \n",
    "                       len(num_clusters_covid), len(num_clusters_gfp)]\n",
    "\n",
    "ESM2_Frozen_AUSPC = [0.85, 0.69, 0.91, 0.26, 0.46]\n",
    "\n",
    "plt.scatter(average_cluster_num, ESM2_Frozen_AUSPC, s = 50)\n",
    "\n",
    "plt.title('ESM2 AUSPC versus input protein similarity to UniRef50', fontsize=20, family='Arial')\n",
    "plt.ylabel('ESM2 AUSPC', fontsize=15, family='Arial')\n",
    "plt.xlabel('Similarity to UniRef50 Pretraining Dataset', fontsize=15, family='Arial')\n",
    "plt.tight_layout()\n",
    "\n",
    "plt.tick_params(axis='both', which='major', labelsize=12)\n",
    "plt.tick_params(axis='both', which='minor', labelsize=8)\n",
    "\n",
    "sns.set_context(\"paper\")\n",
    "sns.despine()\n",
    "plt.savefig('Fig5A.pdf', bbox_inches = 'tight')"
   ]
  },
  {
   "cell_type": "markdown",
   "metadata": {},
   "source": [
    "# Figure 5B\n",
    "\n",
    "### Taking existing data from biological foundation models (protein language models) and seeing how they scale with similarity to Uniref50. Datasets are from ProteinGym. Preformance data is from Transception publication."
   ]
  },
  {
   "cell_type": "code",
   "execution_count": 2,
   "metadata": {},
   "outputs": [],
   "source": [
    "import os\n",
    "import pandas as pd\n",
    "from sklearn.model_selection import train_test_split\n",
    "from tqdm import tqdm\n",
    "from Bio import Align\n",
    "from scipy import stats"
   ]
  },
  {
   "cell_type": "code",
   "execution_count": 3,
   "metadata": {},
   "outputs": [
    {
     "name": "stdout",
     "output_type": "stream",
     "text": [
      "Tranception_L_retrieval\tSpearmanrResult(correlation=0.8999999999999998, pvalue=0.03738607346849874)\n",
      "MSA_Transformer_single\tSpearmanrResult(correlation=0.8999999999999998, pvalue=0.03738607346849874)\n",
      "MSA_Transformer_ensemble\tSpearmanrResult(correlation=0.8999999999999998, pvalue=0.03738607346849874)\n",
      "ESM1v_single\tSpearmanrResult(correlation=0.8999999999999998, pvalue=0.03738607346849874)\n",
      "ESM1v_ensemble\tSpearmanrResult(correlation=0.8999999999999998, pvalue=0.03738607346849874)\n",
      "Progen2_medium\tSpearmanrResult(correlation=0.8999999999999998, pvalue=0.03738607346849874)\n",
      "Progen2_base\tSpearmanrResult(correlation=0.8999999999999998, pvalue=0.03738607346849874)\n",
      "Progen2_large\tSpearmanrResult(correlation=0.8999999999999998, pvalue=0.03738607346849874)\n",
      "Progen2_ensemble\tSpearmanrResult(correlation=0.8999999999999998, pvalue=0.03738607346849874)\n",
      "ESM1b\tSpearmanrResult(correlation=0.8999999999999998, pvalue=0.03738607346849874)\n"
     ]
    }
   ],
   "source": [
    "df = pd.read_csv('results.csv')\n",
    "x = ['AACC1_PSEAI_Dandage_2018', 'A4GRB6_PSEAI_Chen_2020', 'A4D664_9INFA_Soh_CCL141_2019', 'A4_HUMAN_Seuma_2021', 'A0A140D2T1_ZIKV_Sourisseau_growth_2019']\n",
    "sub_df = df[df['Unnamed: 0'].isin(x)].copy()\n",
    "x_dic = {'AACC1_PSEAI_Dandage_2018': 34, \n",
    "         'A4GRB6_PSEAI_Chen_2020': 37, \n",
    "         'A4D664_9INFA_Soh_CCL141_2019': 0, \n",
    "         'A4_HUMAN_Seuma_2021': 30, \n",
    "         'A0A140D2T1_ZIKV_Sourisseau_growth_2019': 13}\n",
    "sub_df['number'] = sub_df['Unnamed: 0'].map(x_dic)\n",
    "\n",
    "results = []\n",
    "for i in sub_df.columns:\n",
    "         if i not in(['Unnamed: 0', 'number','Neff_L_category','GEMME', 'EVmutation']):\n",
    "            x = sub_df['number'].values\n",
    "            y = sub_df[i].values\n",
    "            \n",
    "            \"\"\"\n",
    "            We filter to only consider those models that have a significant correlation with Uniref50 pretraining similarity\n",
    "            Those without correlation either (1) have other spectral properties beyond sequence similarity to Uniref50 pretraining set\n",
    "            or (2) were trained without the use of Uniref50\n",
    "            \n",
    "            \"\"\"\n",
    "\n",
    "            \n",
    "            if stats.spearmanr(x, y).pvalue < 0.05:\n",
    "                print(f'{i}\\t{stats.spearmanr(x, y)}')\n",
    "                for n, m in zip(x, y):\n",
    "                    results.append({'Model':i, 'Similarity': n, 'Performance': m})\n",
    "                "
   ]
  },
  {
   "cell_type": "code",
   "execution_count": 4,
   "metadata": {},
   "outputs": [
    {
     "data": {
      "text/html": [
       "<div>\n",
       "<style scoped>\n",
       "    .dataframe tbody tr th:only-of-type {\n",
       "        vertical-align: middle;\n",
       "    }\n",
       "\n",
       "    .dataframe tbody tr th {\n",
       "        vertical-align: top;\n",
       "    }\n",
       "\n",
       "    .dataframe thead th {\n",
       "        text-align: right;\n",
       "    }\n",
       "</style>\n",
       "<table border=\"1\" class=\"dataframe\">\n",
       "  <thead>\n",
       "    <tr style=\"text-align: right;\">\n",
       "      <th></th>\n",
       "      <th>Model</th>\n",
       "      <th>Similarity</th>\n",
       "      <th>Performance</th>\n",
       "    </tr>\n",
       "  </thead>\n",
       "  <tbody>\n",
       "    <tr>\n",
       "      <th>0</th>\n",
       "      <td>Tranception_L_retrieval</td>\n",
       "      <td>13</td>\n",
       "      <td>0.351</td>\n",
       "    </tr>\n",
       "    <tr>\n",
       "      <th>1</th>\n",
       "      <td>Tranception_L_retrieval</td>\n",
       "      <td>30</td>\n",
       "      <td>0.452</td>\n",
       "    </tr>\n",
       "    <tr>\n",
       "      <th>2</th>\n",
       "      <td>Tranception_L_retrieval</td>\n",
       "      <td>0</td>\n",
       "      <td>0.393</td>\n",
       "    </tr>\n",
       "    <tr>\n",
       "      <th>3</th>\n",
       "      <td>Tranception_L_retrieval</td>\n",
       "      <td>37</td>\n",
       "      <td>0.652</td>\n",
       "    </tr>\n",
       "    <tr>\n",
       "      <th>4</th>\n",
       "      <td>Tranception_L_retrieval</td>\n",
       "      <td>34</td>\n",
       "      <td>0.466</td>\n",
       "    </tr>\n",
       "    <tr>\n",
       "      <th>5</th>\n",
       "      <td>MSA_Transformer_single</td>\n",
       "      <td>13</td>\n",
       "      <td>0.475</td>\n",
       "    </tr>\n",
       "    <tr>\n",
       "      <th>6</th>\n",
       "      <td>MSA_Transformer_single</td>\n",
       "      <td>30</td>\n",
       "      <td>0.393</td>\n",
       "    </tr>\n",
       "    <tr>\n",
       "      <th>7</th>\n",
       "      <td>MSA_Transformer_single</td>\n",
       "      <td>0</td>\n",
       "      <td>0.333</td>\n",
       "    </tr>\n",
       "    <tr>\n",
       "      <th>8</th>\n",
       "      <td>MSA_Transformer_single</td>\n",
       "      <td>37</td>\n",
       "      <td>0.695</td>\n",
       "    </tr>\n",
       "    <tr>\n",
       "      <th>9</th>\n",
       "      <td>MSA_Transformer_single</td>\n",
       "      <td>34</td>\n",
       "      <td>0.496</td>\n",
       "    </tr>\n",
       "    <tr>\n",
       "      <th>10</th>\n",
       "      <td>MSA_Transformer_ensemble</td>\n",
       "      <td>13</td>\n",
       "      <td>0.454</td>\n",
       "    </tr>\n",
       "    <tr>\n",
       "      <th>11</th>\n",
       "      <td>MSA_Transformer_ensemble</td>\n",
       "      <td>30</td>\n",
       "      <td>0.392</td>\n",
       "    </tr>\n",
       "    <tr>\n",
       "      <th>12</th>\n",
       "      <td>MSA_Transformer_ensemble</td>\n",
       "      <td>0</td>\n",
       "      <td>0.336</td>\n",
       "    </tr>\n",
       "    <tr>\n",
       "      <th>13</th>\n",
       "      <td>MSA_Transformer_ensemble</td>\n",
       "      <td>37</td>\n",
       "      <td>0.670</td>\n",
       "    </tr>\n",
       "    <tr>\n",
       "      <th>14</th>\n",
       "      <td>MSA_Transformer_ensemble</td>\n",
       "      <td>34</td>\n",
       "      <td>0.484</td>\n",
       "    </tr>\n",
       "    <tr>\n",
       "      <th>15</th>\n",
       "      <td>ESM1v_single</td>\n",
       "      <td>13</td>\n",
       "      <td>-0.048</td>\n",
       "    </tr>\n",
       "    <tr>\n",
       "      <th>16</th>\n",
       "      <td>ESM1v_single</td>\n",
       "      <td>30</td>\n",
       "      <td>0.309</td>\n",
       "    </tr>\n",
       "    <tr>\n",
       "      <th>17</th>\n",
       "      <td>ESM1v_single</td>\n",
       "      <td>0</td>\n",
       "      <td>0.026</td>\n",
       "    </tr>\n",
       "    <tr>\n",
       "      <th>18</th>\n",
       "      <td>ESM1v_single</td>\n",
       "      <td>37</td>\n",
       "      <td>0.647</td>\n",
       "    </tr>\n",
       "    <tr>\n",
       "      <th>19</th>\n",
       "      <td>ESM1v_single</td>\n",
       "      <td>34</td>\n",
       "      <td>0.483</td>\n",
       "    </tr>\n",
       "    <tr>\n",
       "      <th>20</th>\n",
       "      <td>ESM1v_ensemble</td>\n",
       "      <td>13</td>\n",
       "      <td>0.015</td>\n",
       "    </tr>\n",
       "    <tr>\n",
       "      <th>21</th>\n",
       "      <td>ESM1v_ensemble</td>\n",
       "      <td>30</td>\n",
       "      <td>0.398</td>\n",
       "    </tr>\n",
       "    <tr>\n",
       "      <th>22</th>\n",
       "      <td>ESM1v_ensemble</td>\n",
       "      <td>0</td>\n",
       "      <td>0.033</td>\n",
       "    </tr>\n",
       "    <tr>\n",
       "      <th>23</th>\n",
       "      <td>ESM1v_ensemble</td>\n",
       "      <td>37</td>\n",
       "      <td>0.668</td>\n",
       "    </tr>\n",
       "    <tr>\n",
       "      <th>24</th>\n",
       "      <td>ESM1v_ensemble</td>\n",
       "      <td>34</td>\n",
       "      <td>0.489</td>\n",
       "    </tr>\n",
       "    <tr>\n",
       "      <th>25</th>\n",
       "      <td>Progen2_medium</td>\n",
       "      <td>13</td>\n",
       "      <td>0.342</td>\n",
       "    </tr>\n",
       "    <tr>\n",
       "      <th>26</th>\n",
       "      <td>Progen2_medium</td>\n",
       "      <td>30</td>\n",
       "      <td>0.292</td>\n",
       "    </tr>\n",
       "    <tr>\n",
       "      <th>27</th>\n",
       "      <td>Progen2_medium</td>\n",
       "      <td>0</td>\n",
       "      <td>0.260</td>\n",
       "    </tr>\n",
       "    <tr>\n",
       "      <th>28</th>\n",
       "      <td>Progen2_medium</td>\n",
       "      <td>37</td>\n",
       "      <td>0.622</td>\n",
       "    </tr>\n",
       "    <tr>\n",
       "      <th>29</th>\n",
       "      <td>Progen2_medium</td>\n",
       "      <td>34</td>\n",
       "      <td>0.428</td>\n",
       "    </tr>\n",
       "    <tr>\n",
       "      <th>30</th>\n",
       "      <td>Progen2_base</td>\n",
       "      <td>13</td>\n",
       "      <td>0.328</td>\n",
       "    </tr>\n",
       "    <tr>\n",
       "      <th>31</th>\n",
       "      <td>Progen2_base</td>\n",
       "      <td>30</td>\n",
       "      <td>0.314</td>\n",
       "    </tr>\n",
       "    <tr>\n",
       "      <th>32</th>\n",
       "      <td>Progen2_base</td>\n",
       "      <td>0</td>\n",
       "      <td>0.285</td>\n",
       "    </tr>\n",
       "    <tr>\n",
       "      <th>33</th>\n",
       "      <td>Progen2_base</td>\n",
       "      <td>37</td>\n",
       "      <td>0.639</td>\n",
       "    </tr>\n",
       "    <tr>\n",
       "      <th>34</th>\n",
       "      <td>Progen2_base</td>\n",
       "      <td>34</td>\n",
       "      <td>0.407</td>\n",
       "    </tr>\n",
       "    <tr>\n",
       "      <th>35</th>\n",
       "      <td>Progen2_large</td>\n",
       "      <td>13</td>\n",
       "      <td>0.312</td>\n",
       "    </tr>\n",
       "    <tr>\n",
       "      <th>36</th>\n",
       "      <td>Progen2_large</td>\n",
       "      <td>30</td>\n",
       "      <td>0.307</td>\n",
       "    </tr>\n",
       "    <tr>\n",
       "      <th>37</th>\n",
       "      <td>Progen2_large</td>\n",
       "      <td>0</td>\n",
       "      <td>0.244</td>\n",
       "    </tr>\n",
       "    <tr>\n",
       "      <th>38</th>\n",
       "      <td>Progen2_large</td>\n",
       "      <td>37</td>\n",
       "      <td>0.638</td>\n",
       "    </tr>\n",
       "    <tr>\n",
       "      <th>39</th>\n",
       "      <td>Progen2_large</td>\n",
       "      <td>34</td>\n",
       "      <td>0.413</td>\n",
       "    </tr>\n",
       "    <tr>\n",
       "      <th>40</th>\n",
       "      <td>Progen2_ensemble</td>\n",
       "      <td>13</td>\n",
       "      <td>0.346</td>\n",
       "    </tr>\n",
       "    <tr>\n",
       "      <th>41</th>\n",
       "      <td>Progen2_ensemble</td>\n",
       "      <td>30</td>\n",
       "      <td>0.330</td>\n",
       "    </tr>\n",
       "    <tr>\n",
       "      <th>42</th>\n",
       "      <td>Progen2_ensemble</td>\n",
       "      <td>0</td>\n",
       "      <td>0.292</td>\n",
       "    </tr>\n",
       "    <tr>\n",
       "      <th>43</th>\n",
       "      <td>Progen2_ensemble</td>\n",
       "      <td>37</td>\n",
       "      <td>0.679</td>\n",
       "    </tr>\n",
       "    <tr>\n",
       "      <th>44</th>\n",
       "      <td>Progen2_ensemble</td>\n",
       "      <td>34</td>\n",
       "      <td>0.424</td>\n",
       "    </tr>\n",
       "    <tr>\n",
       "      <th>45</th>\n",
       "      <td>ESM1b</td>\n",
       "      <td>13</td>\n",
       "      <td>-0.001</td>\n",
       "    </tr>\n",
       "    <tr>\n",
       "      <th>46</th>\n",
       "      <td>ESM1b</td>\n",
       "      <td>30</td>\n",
       "      <td>0.294</td>\n",
       "    </tr>\n",
       "    <tr>\n",
       "      <th>47</th>\n",
       "      <td>ESM1b</td>\n",
       "      <td>0</td>\n",
       "      <td>0.044</td>\n",
       "    </tr>\n",
       "    <tr>\n",
       "      <th>48</th>\n",
       "      <td>ESM1b</td>\n",
       "      <td>37</td>\n",
       "      <td>0.680</td>\n",
       "    </tr>\n",
       "    <tr>\n",
       "      <th>49</th>\n",
       "      <td>ESM1b</td>\n",
       "      <td>34</td>\n",
       "      <td>0.413</td>\n",
       "    </tr>\n",
       "  </tbody>\n",
       "</table>\n",
       "</div>"
      ],
      "text/plain": [
       "                       Model  Similarity  Performance\n",
       "0    Tranception_L_retrieval          13        0.351\n",
       "1    Tranception_L_retrieval          30        0.452\n",
       "2    Tranception_L_retrieval           0        0.393\n",
       "3    Tranception_L_retrieval          37        0.652\n",
       "4    Tranception_L_retrieval          34        0.466\n",
       "5     MSA_Transformer_single          13        0.475\n",
       "6     MSA_Transformer_single          30        0.393\n",
       "7     MSA_Transformer_single           0        0.333\n",
       "8     MSA_Transformer_single          37        0.695\n",
       "9     MSA_Transformer_single          34        0.496\n",
       "10  MSA_Transformer_ensemble          13        0.454\n",
       "11  MSA_Transformer_ensemble          30        0.392\n",
       "12  MSA_Transformer_ensemble           0        0.336\n",
       "13  MSA_Transformer_ensemble          37        0.670\n",
       "14  MSA_Transformer_ensemble          34        0.484\n",
       "15              ESM1v_single          13       -0.048\n",
       "16              ESM1v_single          30        0.309\n",
       "17              ESM1v_single           0        0.026\n",
       "18              ESM1v_single          37        0.647\n",
       "19              ESM1v_single          34        0.483\n",
       "20            ESM1v_ensemble          13        0.015\n",
       "21            ESM1v_ensemble          30        0.398\n",
       "22            ESM1v_ensemble           0        0.033\n",
       "23            ESM1v_ensemble          37        0.668\n",
       "24            ESM1v_ensemble          34        0.489\n",
       "25            Progen2_medium          13        0.342\n",
       "26            Progen2_medium          30        0.292\n",
       "27            Progen2_medium           0        0.260\n",
       "28            Progen2_medium          37        0.622\n",
       "29            Progen2_medium          34        0.428\n",
       "30              Progen2_base          13        0.328\n",
       "31              Progen2_base          30        0.314\n",
       "32              Progen2_base           0        0.285\n",
       "33              Progen2_base          37        0.639\n",
       "34              Progen2_base          34        0.407\n",
       "35             Progen2_large          13        0.312\n",
       "36             Progen2_large          30        0.307\n",
       "37             Progen2_large           0        0.244\n",
       "38             Progen2_large          37        0.638\n",
       "39             Progen2_large          34        0.413\n",
       "40          Progen2_ensemble          13        0.346\n",
       "41          Progen2_ensemble          30        0.330\n",
       "42          Progen2_ensemble           0        0.292\n",
       "43          Progen2_ensemble          37        0.679\n",
       "44          Progen2_ensemble          34        0.424\n",
       "45                     ESM1b          13       -0.001\n",
       "46                     ESM1b          30        0.294\n",
       "47                     ESM1b           0        0.044\n",
       "48                     ESM1b          37        0.680\n",
       "49                     ESM1b          34        0.413"
      ]
     },
     "execution_count": 4,
     "metadata": {},
     "output_type": "execute_result"
    }
   ],
   "source": [
    "pd.DataFrame(results)"
   ]
  },
  {
   "cell_type": "code",
   "execution_count": 5,
   "metadata": {},
   "outputs": [],
   "source": [
    "import seaborn as sns\n",
    "import matplotlib.pyplot as plt"
   ]
  },
  {
   "cell_type": "code",
   "execution_count": 6,
   "metadata": {},
   "outputs": [
    {
     "data": {
      "text/plain": [
       "<matplotlib.legend.Legend at 0x7fe81bb0ed68>"
      ]
     },
     "execution_count": 6,
     "metadata": {},
     "output_type": "execute_result"
    },
    {
     "data": {
      "image/png": "[encoded data removed]",
      "text/plain": [
       "<Figure size 432x288 with 1 Axes>"
      ]
     },
     "metadata": {
      "needs_background": "light"
     },
     "output_type": "display_data"
    }
   ],
   "source": [
    "sns.lineplot(data = pd.DataFrame(results), x = 'Similarity', y = 'Performance',\n",
    "            hue = 'Model', markers = True, style = 'Model', palette = 'flare')\n",
    "plt.legend(loc = (1,0))"
   ]
  },
  {
   "cell_type": "code",
   "execution_count": 19,
   "metadata": {},
   "outputs": [
    {
     "data": {
      "image/png": "[encoded data removed]",
      "text/plain": [
       "<Figure size 432x288 with 1 Axes>"
      ]
     },
     "metadata": {
      "needs_background": "light"
     },
     "output_type": "display_data"
    }
   ],
   "source": [
    "new_df = pd.DataFrame(results)\n",
    "new_df = new_df[new_df['Model'].isin(['Tranception_L_retrieval', 'MSA_Transformer_ensemble', 'ESM1v_single', 'ESM1b', 'Progen2_large'])]\n",
    "new_df['Model'] = new_df['Model'].map({\n",
    "    'Tranception_L_retrieval': 'Tranception',\n",
    "    'MSA_Transformer_ensemble': 'MSA Transformer',\n",
    "    'ESM1v_single': 'ESM1v',\n",
    "    'Progen2_large': 'Progen2'\n",
    "})\n",
    "\n",
    "ax = sns.scatterplot(data = new_df, x = 'Similarity', y = 'Performance',\n",
    "            hue = 'Model', palette = 'colorblind', s = 50)\n",
    "sns.set_context(\"paper\")\n",
    "plt.ylabel('Approximate AUSPC', fontsize=15, family='Arial')\n",
    "plt.xlabel('Similarity to UniRef50 Pretraining Dataset', fontsize=15, family='Arial')\n",
    "# plt.legend(loc = (1,0.7))\n",
    "plt.title('AUSPC versus dataset similarity to Uniref50', fontsize=20, family='Arial')\n",
    "plt.tight_layout()\n",
    "sns.set_context(\"paper\")\n",
    "sns.despine()\n",
    "plt.legend(prop={'size': 15})\n",
    "ax.tick_params(axis='both', which='major', labelsize=12)\n",
    "ax.tick_params(axis='both', which='minor', labelsize=8)\n",
    "plt.savefig('Fig5B.pdf')"
   ]
  },
  {
   "cell_type": "markdown",
   "metadata": {},
   "source": [
    "# Supplemental Code\n",
    "\n",
    "### Code to get number of similar clusters for ProteinGym datasets for Figure 5B."
   ]
  },
  {
   "cell_type": "code",
   "execution_count": 14,
   "metadata": {},
   "outputs": [],
   "source": [
    "def align_overlap(input):\n",
    "    i = input[0]\n",
    "    j = input[1]\n",
    "\n",
    "    count = 0\n",
    "    diff = 0\n",
    "\n",
    "    for orig, n in zip(i, j):\n",
    "        if orig != n:\n",
    "            diff += 1\n",
    "        count += 1\n",
    "\n",
    "    return 1 - diff/count\n",
    "\n",
    "def calculate_similarity(aligner, seq1, seq2):\n",
    "    return align_overlap(aligner.align(seq1, seq2)[0])\n",
    "    \n",
    "\n",
    "def extract_sequence_sequence_similarity(compare, to_compare):\n",
    "\n",
    "    aligner = Align.PairwiseAligner()\n",
    "\n",
    "    aligner.match_score = 1.0\n",
    "    aligner.mismatch_score = -2.0\n",
    "    aligner.gap_score = -2.5\n",
    "    result = []\n",
    "    for i in to_compare:\n",
    "        alignment = aligner.align(compare, i)[0]\n",
    "        overlap = align_overlap(alignment)            \n",
    "        result.append(overlap)\n",
    "        \n",
    "    return result\n",
    "\n",
    "def extract_sequences(filename, wildtype=False):\n",
    "    sequences = []\n",
    "    seq = ''\n",
    "    include = True\n",
    "    for line in open(filename, 'r'):\n",
    "        if '>' in line:\n",
    "            if seq and include:\n",
    "                sequences.append(seq)\n",
    "                seq = ''\n",
    "        else:\n",
    "            seq += line.rstrip()\n",
    "    sequences.append(seq)\n",
    "    return sequences\n",
    "\n",
    "def extract_compare(filename, to_compare):\n",
    "    aligner = Align.PairwiseAligner()\n",
    "\n",
    "    aligner.match_score = 1.0\n",
    "    aligner.mismatch_score = -2.0\n",
    "    aligner.gap_score = -2.5\n",
    "    \n",
    "    \n",
    "    results = []\n",
    "    seq = ''\n",
    "    include = True\n",
    "    for line in tqdm(open(filename, 'r')):\n",
    "        if '>' in line:\n",
    "            if seq and include:\n",
    "                results.append(calculate_similarity(aligner, seq, to_compare))\n",
    "                print(np.mean(results))\n",
    "                seq = ''\n",
    "        else:\n",
    "            seq += line.rstrip()\n",
    "    results.append(calculate_similarity(aligner, seq, to_compare))\n",
    "    return results\n",
    "        "
   ]
  },
  {
   "cell_type": "code",
   "execution_count": 21,
   "metadata": {},
   "outputs": [
    {
     "name": "stdout",
     "output_type": "stream",
     "text": [
      "AACC1_PSEAI_Dandage_2018\t305055\n",
      "0.23459844476523203\n",
      "34\n",
      "A4GRB6_PSEAI_Chen_2020\t76291\n",
      "0.2408015321216434\n",
      "37\n",
      "A4D664_9INFA_Soh_CCL141_2019\t68\n",
      "0.17236690732693405\n",
      "0\n",
      "A4_HUMAN_Seuma_2021\t754\n",
      "0.2193013698269827\n",
      "30\n",
      "A0A140D2T1_ZIKV_Sourisseau_growth_2019\t2752\n",
      "0.1209727360453352\n",
      "13\n"
     ]
    }
   ],
   "source": [
    "x = ['AACC1_PSEAI_Dandage_2018', 'A4GRB6_PSEAI_Chen_2020', 'A4D664_9INFA_Soh_CCL141_2019', 'A4_HUMAN_Seuma_2021', 'A0A140D2T1_ZIKV_Sourisseau_growth_2019']\n",
    "dataset_to_ref_sequence = {'AACC1_PSEAI_Dandage_2018': 'MLRSSNDVTQQVSRPKTKLGGSSMGIIRTCRLGPDQVKSMRAALDLFGREFGDVATYSQHQPDSDYLGNLLRSKTFIALAAFDQEAVVGALAAYVLPKFEQPRSEIYIYDLAVSGEHRRQGIATALINLLKHEANALGAYVIYVQADYGDDPAVALYTKLGIREEVMHFDIDPSTAT',\n",
    "                           'A4GRB6_PSEAI_Chen_2020': 'MFKLLSKLLVYLTASIMAIASPLAFSVDSSGEYPTVSEIPVGEVRLYQIADGVWSHIATQSFDGAVYPSNGLIVRDGDELLLIDTAWGAKNTAALLAEIEKQIGLPVTRAVSTHFHDDRVGGVDVLRAAGVATYASPSTRRLAEVEGNEIPTHSLEGLSSSGDAVRFGPVELFYPGAAHSTDNLIVYVPSASVLYGGCAIYELSRTSAGNVADADLAEWPTSIERIQQHYPEAQFVIPGHGLPGGLDLLKHTTNVVKAHTNRSVVE',\n",
    "                            'A4D664_9INFA_Soh_CCL141_2019':'MLPGLALLLLAAWTARALEVPTDGNAGLLAEPQIAMFCGRLNMHMNVQNGKWDSDPSGTKTCIDTKEGILQYCQEVYPELQITNVVEANQPVTIQNWCKRGRKQCKTHPHFVIPYRCLVGEFVSDALLVPDKCKFLHQERMDVCETHLHWHTVAKETCSEKSTNLHDYGMLLPCGIDKFRGVEFVCCPLAEESDNVDSADAEEDDSDVWWGGADTDYADGSEDKVVEVAEEEEVAEVEEEEADDDEDDEDGDEVEEEAEEPYEEATERTTSIATTTTTTTESVEEVVREVCSEQAETGPCRAMISRWYFDVTEGKCAPFFYGGCGGNRNNFDTEEYCMAVCGSAMSQSLLKTTQEPLARDPVKLPTTAASTPDAVDKYLETPGDENEHAHFQKAKERLEAKHRERMSQVMREWEEAERQAKNLPKADKKAVIQHFQEKVESLEQEAANERQQLVETHMARVEAMLNDRRRLALENYITALQAVPPRPRHVFNMLKKYVRAEQKDRQHTLKHFEHVRMVDPKKAAQIRSQVMTHLRVIYERMNQSLSLLYNVPAVAEEIQDEVDELLQKEQNYSDDVLANMISEPRISYGNDALMPSLTETKTTVELLPVNGEFSLDDLQPWHSFGADSVPANTENEVEPVDARPAADRGLTTRPGSGLTNIKTEEISEVKMGAEFRHDSGYEVHHQKLVFFAEDVGSNKGAIVGLMVGGVVIATVIVITLVMLKKKQYTSIHHGVVEVDAAVTPEERHLSKMQQNGYENPTYKFFEQMQN',\n",
    "                           'A4_HUMAN_Seuma_2021': 'MLPGLALLLLAAWTARALEVPTDGNAGLLAEPQIAMFCGRLNMHMNVQNGKWDSDPSGTKTCIDTKEGILQYCQEVYPELQITNVVEANQPVTIQNWCKRGRKQCKTHPHFVIPYRCLVGEFVSDALLVPDKCKFLHQERMDVCETHLHWHTVAKETCSEKSTNLHDYGMLLPCGIDKFRGVEFVCCPLAEESDNVDSADAEEDDSDVWWGGADTDYADGSEDKVVEVAEEEEVAEVEEEEADDDEDDEDGDEVEEEAEEPYEEATERTTSIATTTTTTTESVEEVVREVCSEQAETGPCRAMISRWYFDVTEGKCAPFFYGGCGGNRNNFDTEEYCMAVCGSAMSQSLLKTTQEPLARDPVKLPTTAASTPDAVDKYLETPGDENEHAHFQKAKERLEAKHRERMSQVMREWEEAERQAKNLPKADKKAVIQHFQEKVESLEQEAANERQQLVETHMARVEAMLNDRRRLALENYITALQAVPPRPRHVFNMLKKYVRAEQKDRQHTLKHFEHVRMVDPKKAAQIRSQVMTHLRVIYERMNQSLSLLYNVPAVAEEIQDEVDELLQKEQNYSDDVLANMISEPRISYGNDALMPSLTETKTTVELLPVNGEFSLDDLQPWHSFGADSVPANTENEVEPVDARPAADRGLTTRPGSGLTNIKTEEISEVKMVAEFRHDSGYEVHHQKLVFFAEDVGSNKGAIIGLMVGGGVIATVIVITLVMLKKKQYTSIHHGVVEVDAAVTPEERHLSKMQQNGYENPTYKFFEQMQN',\n",
    "                            'A0A140D2T1_ZIKV_Sourisseau_growth_2019': 'MKNPKKKSGGFRIVNMLKRGVARVNPLGGLKRLPAGLLLGHGPIRMVLAILAFLRFTAIKPSLGLINRWGSVGKKEAMEIIKKFKKDLAAMLRIINARKERKRRGADTSIGIIGLLLTTAMAAEITRRGSAYYMYLDRSDAGKAISFATTLGVNKCHVQIMDLGHMCDATMSYECPMLDEGVEPDDVDCWCNTTSTWVVYGTCHHKKGEARRSRRAVTLPSHSTRKLQTRSQTWLESREYTKHLIKVENWIFRNPGFALVAVAIAWLLGSSTSQKVIYLVMILLIAPAYSARCIGVSNRDFVEGMSGGTWVDVVLEHGGCVTVMAQDKPTVDIELVTTTVSNMAEVRSYCYEASISDMASDSRCPTQGEAYLDKQSDTQYVCKRTLVDRGWGNGCGLFGKGSLVTCAKFTCSKKMTGKSIQPENLEYRIMLSVHGSQHSGMIVNDTGYETDENRAKVEVTPNSPRAEATLGGFGSLGLDCEPRTGLDFSDLYYLTMNNKHWLVHKEWFHDIPLPWHAGADTGTPHWNNKEALVEFKDAHAKRQTVVVLGSQEGAVHTALAGALEAEMDGAKGKLFSGHLKCRLKMDKLRLKGVSYSLCTAAFTFTKVPAETLHGTVTVEVQYAGTDGPCKIPVQMAVDMQTLTPVGRLITANPVITESTENSKMMLELDPPFGDSYIVIGVGDKKITHHWHRSGSTIGKAFEATVRGAKRMAVLGDTAWDFGSVGGVFNSLGKGIHQIFGAAFKSLFGGMSWFSQILIGTLLVWLGLNTKNGSISLTCLALGGVMIFLSTAVSADVGCSVDFSKKETRCGTGVFIYNDVEAWRDRYKYHPDSPRRLAAAVKQAWEEGICGISSVSRMENIMWKSVEGELNAILEENGVQLTVVVGSVKNPMWRGPQRLPVPVNELPHGWKAWGKSYFVRAAKTNNSFVVDGDTLKECPLEHRAWNSFLVEDHGFGVFHTSVWLKVREDYSLECDPAVIGTAVKGREAAHSDLGYWIESEKNDTWRLKRAHLIEMKTCEWPKSHTLWTDGVEESDLIIPKSLAGPLSHHNTREGYRTQVKGPWHSEELEIRFEECPGTKVYVEETCGTRGPSLRSTTASGRVIEEWCCRECTMPPLSFRAKDGCWYGMEIRPRKEPESNLVRSMVTAGSTDHMDHFSLGVLVILLMVQEGLKKRMTTKIIMSTSMAVLVVMILGGFSMSDLAKLVILMGATFAEMNTGGDVAHLALVAAFKVRPALLVSFIFRANWTPRESMLLALASCLLQTAISALEGDLMVLINGFALAWLAIRAMAVPRTDNIALPILAALTPLARGTLLVAWRAGLATCGGIMLLSLKGKGSVKKNLPFVMALGLTAVRVVDPINVVGLLLLTRSGKRSWPPSEVLTAVGLICALAGGFAKADIEMAGPMAAVGLLIVSYVVSGKSVDMYIERAGDITWEKDAEVTGNSPRLDVALDESGDFSLVEEDGPPMREIILKVVLMAICGMNPIAIPFAAGAWYVYVKTGKRSGALWDVPAPKEVKKGETTDGVYRVMTRRLLGSTQVGVGVMQEGVFHTMWHVTKGAALRSGEGRLDPYWGDVKQDLVSYCGPWKLDAAWDGLSEVQLLAVPPGERARNIQTLPGIFKTKDGDIGAVALDYPAGTSGSPILDKCGRVIGLYGNGVVIKNGSYVSAITQGKREEETPVECFEPSMLKKKQLTVLDLHPGAGKTRRVLPEIVREAIKKRLRTVILAPTRVVAAEMEEALRGLPVRYMTTAVNVTHSGTEIVDLMCHATFTSRLLQPIRVPNYNLYIMDEAHFTDPSSIAARGYISTRVEMGEAAAIFMTATPPGTRDAFPDSNSPIMDTEVEVPERAWSSGFDWVTDHSGKTVWFVPSVRNGNEIAACLTKAGKRVIQLSRKTFETEFQKTKNQEWDFVITTDISEMGANFKADRVIDSRRCLKPVILDGERVILAGPMPVTHASAAQRRGRIGRNPNKPGDEYMYGGGCAETDEGHAHWLEARMLLDNIYLQDGLIASLYRPEADKVAAIEGEFKLRTEQRKTFVELMKRGDLPVWLAYQVASAGITYTDRRWCFDGTTNNTIMEDSVPAEVWTKYGEKRVLKPRWMDARVCSDHAALKSFKEFAAGKRGAALGVMEALGTLPGHMTERFQEAIDNLAVLMRAETGSRPYKAAAAQLPETLETIMLLGLLGTVSLGIFFVLMRNKGIGKMGFGMVTLGASAWLMWLSEIEPARIACVLIVVFLLLVVLIPEPEKQRSPQDNQMAIIIMVAVGLLGLITANELGWLERTKNDIAHLMGRREEGATMGFSMDIDLRPASAWAIYAALTTLITPAVQHAVTTSYNNYSLMAMATQAGVLFGMGKGMPFYAWDLGVPLLMMGCYSQLTPLTLIVAIILLVAHYMYLIPGLQAAAARAAQKRTAAGIMKNPVVDGIVVTDIDTMTIDPQVEKKMGQVLLIAVAISSAVLLRTAWGWGEAGALITAATSTLWEGSPNKYWNSSTATSLCNIFRGSYLAGASLIYTVTRNAGLVKRRGGGTGETLGEKWKARLNQMSALEFYSYKKSGITEVCREEARRALKDGVATGGHAVSRGSAKLRWLVERGYLQPYGKVVDLGCGRGGWSYYAATIRKVQEVRGYTKGGPGHEEPMLVQSYGWNIVRLKSGVDVFHMAAEPCDTLLCDIGESSSSPEVEETRTLRVLSMVGDWLEKRPGAFCIKVLCPYTSTMMETMERLQRRHGGGLVRVPLSRNSTHEMYWVSGAKSNIIKSVSTTSQLLLGRMDGPRRPVKYEEDVNLGSGTRAVASCAEAPNMKIIGRRIERIRNEHAETWFLDENHPYRTWAYHGSYEAPTQGSASSLVNGVVRLLSKPWDVVTGVTGIAMTDTTPYGQQRVFKEKVDTRVPDPQEGTRQVMNIVSSWLWKELGKRKRPRVCTKEEFINKVRSNAALGAIFEEEKEWKTAVEAVNDPRFWALVDREREHHLRGECHSCVYNMMGKREKKQGEFGKAKGSRAIWYMWLGARFLEFEALGFLNEDHWMGRENSGGGVEGLGLQRLGYILEEMNRAPGGKMYADDTAGWDTRISKFDLENEALITNQMEEGHRTLALAVIKYTYQNKVVKVLRPAEGGKTVMDIISRQDQRGSGQVVTYALNTFTNLVVQLIRNMEAEEVLEMQDLWLLRKPEKVTRWLQSNGWDRLKRMAVSGDDCVVKPIDDRFAHALRFLNDMGKVRKDTQEWKPSTGWSNWEEVPFCSHHFNKLYLKDGRSIVVPCRHQDELIGRARVSPGAGWSIRETACLAKSYAQMWQLLYFHRRDLRLMANAICSAVPVDWVPTGRTTWSIHGKGEWMTTEDMLMVWNRVWIEENDHMEDKTPVTKWTDIPYLGKREDLWCGSLIGHRPRTTWAENIKDTVNMVRRIIGDEEKYMDYLSTQVRYLGEEGSTPGVL',\n",
    "                          }\n",
    "\n",
    "for i in x:\n",
    "    file_one = f'ProteinGym_Substitutions/{i}.csv'\n",
    "    file_two = f'{i}_Uniref50.fasta' \n",
    "    ref_sequence = dataset_to_ref_sequence[i]\n",
    "    sequences = [i for i in list(set(extract_sequences(file_two))) if 'X' not in i]\n",
    "    print(f'{i}\\t{len(sequences)}')\n",
    "    result = extract_sequence_sequence_similarity(ref_sequence, sequences)\n",
    "    print(np.mean(result))\n",
    "    num_clusters = sum([i >= 0.40 for i in result])\n",
    "    print(num_clusters)\n",
    "    \n",
    "    \n",
    "    \n",
    "    "
   ]
  },
  {
   "cell_type": "markdown",
   "metadata": {},
   "source": [
    "# Supplemental Code\n",
    "\n",
    "### UniRef Random Sequences Comparison Analysis: code to determine what threshold to use for sequence comparison for Uniref50 sequences\n",
    "#### To run this last part you have to run the below command to get all the sequences to then compare. It's around 13 GB\n",
    "\n"
   ]
  },
  {
   "cell_type": "code",
   "execution_count": null,
   "metadata": {},
   "outputs": [],
   "source": [
    "!wget https://ftp.uniprot.org/pub/databases/uniprot/uniref/uniref50/uniref50.fasta.gz"
   ]
  },
  {
   "cell_type": "code",
   "execution_count": 11,
   "metadata": {},
   "outputs": [
    {
     "ename": "FileNotFoundError",
     "evalue": "[Errno 2] No such file or directory: '/Users/yashaektefaie/Downloads/UniRef50_Sequences'",
     "output_type": "error",
     "traceback": [
      "\u001b[0;31m---------------------------------------------------------------------------\u001b[0m",
      "\u001b[0;31mFileNotFoundError\u001b[0m                         Traceback (most recent call last)",
      "\u001b[0;32m<ipython-input-11-75ea1adfbdd5>\u001b[0m in \u001b[0;36m<module>\u001b[0;34m\u001b[0m\n\u001b[1;32m      3\u001b[0m \u001b[0mseq\u001b[0m \u001b[0;34m=\u001b[0m \u001b[0;34m''\u001b[0m\u001b[0;34m\u001b[0m\u001b[0;34m\u001b[0m\u001b[0m\n\u001b[1;32m      4\u001b[0m \u001b[0minclude\u001b[0m \u001b[0;34m=\u001b[0m \u001b[0;32mTrue\u001b[0m\u001b[0;34m\u001b[0m\u001b[0;34m\u001b[0m\u001b[0m\n\u001b[0;32m----> 5\u001b[0;31m \u001b[0;32mfor\u001b[0m \u001b[0mline\u001b[0m \u001b[0;32min\u001b[0m \u001b[0mtqdm\u001b[0m\u001b[0;34m(\u001b[0m\u001b[0mopen\u001b[0m\u001b[0;34m(\u001b[0m\u001b[0mfilename\u001b[0m\u001b[0;34m,\u001b[0m \u001b[0;34m'r'\u001b[0m\u001b[0;34m)\u001b[0m\u001b[0;34m)\u001b[0m\u001b[0;34m:\u001b[0m\u001b[0;34m\u001b[0m\u001b[0;34m\u001b[0m\u001b[0m\n\u001b[0m\u001b[1;32m      6\u001b[0m     \u001b[0;32mif\u001b[0m \u001b[0;34m'>'\u001b[0m \u001b[0;32min\u001b[0m \u001b[0mline\u001b[0m\u001b[0;34m:\u001b[0m\u001b[0;34m\u001b[0m\u001b[0;34m\u001b[0m\u001b[0m\n\u001b[1;32m      7\u001b[0m         \u001b[0;32mif\u001b[0m \u001b[0mseq\u001b[0m \u001b[0;32mand\u001b[0m \u001b[0minclude\u001b[0m\u001b[0;34m:\u001b[0m\u001b[0;34m\u001b[0m\u001b[0;34m\u001b[0m\u001b[0m\n",
      "\u001b[0;31mFileNotFoundError\u001b[0m: [Errno 2] No such file or directory: '/Users/yashaektefaie/Downloads/UniRef50_Sequences'"
     ]
    }
   ],
   "source": [
    "filename = \"/Users/yashaektefaie/Downloads/UniRef50_Sequences\"\n",
    "sequences = []\n",
    "seq = ''\n",
    "include = True\n",
    "for line in tqdm(open(filename, 'r')):\n",
    "    if '>' in line:\n",
    "        if seq and include:\n",
    "            sequences.append(seq)\n",
    "            seq = ''\n",
    "    else:\n",
    "        seq += line.rstrip()\n",
    "    \n",
    "    if len(sequences) > 1000000:\n",
    "        break"
   ]
  },
  {
   "cell_type": "code",
   "execution_count": 2,
   "metadata": {},
   "outputs": [
    {
     "ename": "NameError",
     "evalue": "name 'Align' is not defined",
     "output_type": "error",
     "traceback": [
      "\u001b[0;31m---------------------------------------------------------------------------\u001b[0m",
      "\u001b[0;31mNameError\u001b[0m                                 Traceback (most recent call last)",
      "\u001b[0;32m<ipython-input-2-ae9f4bc85a32>\u001b[0m in \u001b[0;36m<module>\u001b[0;34m\u001b[0m\n\u001b[0;32m----> 1\u001b[0;31m \u001b[0maligner\u001b[0m \u001b[0;34m=\u001b[0m \u001b[0mAlign\u001b[0m\u001b[0;34m.\u001b[0m\u001b[0mPairwiseAligner\u001b[0m\u001b[0;34m(\u001b[0m\u001b[0;34m)\u001b[0m\u001b[0;34m\u001b[0m\u001b[0;34m\u001b[0m\u001b[0m\n\u001b[0m\u001b[1;32m      2\u001b[0m \u001b[0;34m\u001b[0m\u001b[0m\n\u001b[1;32m      3\u001b[0m \u001b[0maligner\u001b[0m\u001b[0;34m.\u001b[0m\u001b[0mmatch_score\u001b[0m \u001b[0;34m=\u001b[0m \u001b[0;36m1.0\u001b[0m\u001b[0;34m\u001b[0m\u001b[0;34m\u001b[0m\u001b[0m\n\u001b[1;32m      4\u001b[0m \u001b[0maligner\u001b[0m\u001b[0;34m.\u001b[0m\u001b[0mmismatch_score\u001b[0m \u001b[0;34m=\u001b[0m \u001b[0;34m-\u001b[0m\u001b[0;36m2.0\u001b[0m\u001b[0;34m\u001b[0m\u001b[0;34m\u001b[0m\u001b[0m\n\u001b[1;32m      5\u001b[0m \u001b[0maligner\u001b[0m\u001b[0;34m.\u001b[0m\u001b[0mgap_score\u001b[0m \u001b[0;34m=\u001b[0m \u001b[0;34m-\u001b[0m\u001b[0;36m2.5\u001b[0m\u001b[0;34m\u001b[0m\u001b[0;34m\u001b[0m\u001b[0m\n",
      "\u001b[0;31mNameError\u001b[0m: name 'Align' is not defined"
     ]
    }
   ],
   "source": [
    "aligner = Align.PairwiseAligner()\n",
    "\n",
    "aligner.match_score = 1.0\n",
    "aligner.mismatch_score = -2.0\n",
    "aligner.gap_score = -2.5\n",
    "\n",
    "random_similarities = []\n",
    "for i in tqdm(range(100000)):\n",
    "    seq1, seq2 = random.sample(sequences, 2)\n",
    "    if seq1 != seq2:\n",
    "        random_similarities.append(calculate_similarity(aligner, seq1, seq2))"
   ]
  },
  {
   "cell_type": "code",
   "execution_count": 51,
   "metadata": {},
   "outputs": [
    {
     "data": {
      "text/plain": [
       "0.210289692224332"
      ]
     },
     "execution_count": 51,
     "metadata": {},
     "output_type": "execute_result"
    }
   ],
   "source": [
    "np.mean(random_similarities)"
   ]
  },
  {
   "cell_type": "code",
   "execution_count": 52,
   "metadata": {},
   "outputs": [
    {
     "data": {
      "text/plain": [
       "(array([1.0404e+04, 4.7794e+04, 3.5181e+04, 2.9520e+03, 2.4480e+03,\n",
       "        8.6800e+02, 2.1500e+02, 6.1000e+01, 5.4000e+01, 2.3000e+01]),\n",
       " array([0.02873987, 0.12439726, 0.22005464, 0.31571203, 0.41136942,\n",
       "        0.50702681, 0.6026842 , 0.69834159, 0.79399897, 0.88965636,\n",
       "        0.98531375]),\n",
       " <BarContainer object of 10 artists>)"
      ]
     },
     "execution_count": 52,
     "metadata": {},
     "output_type": "execute_result"
    },
    {
     "data": {
      "image/png": "[encoded data removed]",
      "text/plain": [
       "<Figure size 432x288 with 1 Axes>"
      ]
     },
     "metadata": {
      "needs_background": "light"
     },
     "output_type": "display_data"
    }
   ],
   "source": [
    "plt.hist(random_similarities)"
   ]
  },
  {
   "cell_type": "code",
   "execution_count": 53,
   "metadata": {},
   "outputs": [
    {
     "data": {
      "text/plain": [
       "0.3718881577166474"
      ]
     },
     "execution_count": 53,
     "metadata": {},
     "output_type": "execute_result"
    }
   ],
   "source": [
    "np.mean(random_similarities) + 2*np.std(random_similarities)"
   ]
  }
 ],
 "metadata": {
  "kernelspec": {
   "display_name": "Python 3",
   "language": "python",
   "name": "python3"
  },
  "language_info": {
   "codemirror_mode": {
    "name": "ipython",
    "version": 3
   },
   "file_extension": ".py",
   "mimetype": "text/x-python",
   "name": "python",
   "nbconvert_exporter": "python",
   "pygments_lexer": "ipython3",
   "version": "3.7.2"
  }
 },
 "nbformat": 4,
 "nbformat_minor": 2
}
