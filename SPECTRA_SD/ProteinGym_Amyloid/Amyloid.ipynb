{
 "cells": [
  {
   "cell_type": "code",
   "execution_count": null,
   "metadata": {},
   "outputs": [],
   "source": [
    "from torchdrug import datasets\n",
    "from torchdrug.data.protein import Protein\n",
    "from Bio import Align\n",
    "import pandas as pd\n",
    "from sklearn.model_selection import train_test_split\n",
    "import numpy as np\n",
    "from tqdm import tqdm\n",
    "import networkx as nx\n",
    "import random\n",
    "from random import sample"
   ]
  },
  {
   "cell_type": "markdown",
   "metadata": {},
   "source": [
    "# Datasest processing"
   ]
  },
  {
   "cell_type": "code",
   "execution_count": 2,
   "metadata": {},
   "outputs": [],
   "source": [
    "dataset_loc = \"A4_HUMAN_Seuma_2021.csv\"\n",
    "df = pd.read_csv(dataset_loc)\n",
    "mutants = list(df['mutant'].values)\n",
    "def get_mutations(list_mutants):\n",
    "    mutations = []\n",
    "    for i in list_mutants:\n",
    "        mutations.extend(i.split(':'))\n",
    "    return list(set(mutations))\n",
    "\n",
    "x_train, x_test = train_test_split(mutants, test_size = 0.1, random_state = 42)\n",
    "x_test, x_val = train_test_split(x_test, test_size = 0.5, random_state = 42)\n",
    "\n",
    "train_mutations = get_mutations(x_train)\n",
    "valid_mutations = get_mutations(x_val)\n",
    "test_mutations = get_mutations(x_test)"
   ]
  },
  {
   "cell_type": "markdown",
   "metadata": {},
   "source": [
    "# Cross-split overlap definition"
   ]
  },
  {
   "cell_type": "code",
   "execution_count": 3,
   "metadata": {},
   "outputs": [
    {
     "name": "stdout",
     "output_type": "stream",
     "text": [
      "test stats\t229/463, 0.4946004319654428\n"
     ]
    }
   ],
   "source": [
    "def overlap(one, two, name):\n",
    "    combined_mutations = list(set(one + two))\n",
    "\n",
    "    num_overlap = sum([1 for i in one if i in two])\n",
    "    print(f'{name} stats\\t{num_overlap}/{len(combined_mutations)}, {num_overlap/len(combined_mutations)}')\n",
    "\n",
    "overlap(test_mutations, train_mutations, 'test')"
   ]
  },
  {
   "cell_type": "markdown",
   "metadata": {},
   "source": [
    "# Construct Spectral Property Graph"
   ]
  },
  {
   "cell_type": "code",
   "execution_count": 4,
   "metadata": {},
   "outputs": [],
   "source": [
    "def create_graph(barcodes):\n",
    "    G = nx.Graph()\n",
    "\n",
    "\n",
    "    print(\"GOING TO INITIALIZE GRAPH\")\n",
    "    #Initialize Graph\n",
    "    for barcode in barcodes:\n",
    "        G.add_node(barcode)\n",
    "\n",
    "    print(\"GRAPH INITIALIZED\")\n",
    "\n",
    "    #Now we create edges between nodes based on mutational overlap\n",
    "    for bar_1 in tqdm(barcodes, total=len(barcodes)):\n",
    "        for bar_2 in barcodes:\n",
    "            if bar_1 != bar_2:\n",
    "                for mut in bar_1.split(':'):\n",
    "                    if mut in bar_2:\n",
    "                        G.add_edge(bar_1, bar_2)\n",
    "                        break\n",
    "\n",
    "    return G"
   ]
  },
  {
   "cell_type": "code",
   "execution_count": 5,
   "metadata": {},
   "outputs": [
    {
     "name": "stdout",
     "output_type": "stream",
     "text": [
      "GOING TO INITIALIZE GRAPH\n",
      "GRAPH INITIALIZED\n"
     ]
    },
    {
     "name": "stderr",
     "output_type": "stream",
     "text": [
      "100%|██████████████████████████████████████████████████████████████████████████████████████████████████████████████████| 14483/14483 [01:29<00:00, 162.49it/s]\n"
     ]
    }
   ],
   "source": [
    "G = create_graph(mutants)"
   ]
  },
  {
   "cell_type": "code",
   "execution_count": 6,
   "metadata": {},
   "outputs": [
    {
     "name": "stdout",
     "output_type": "stream",
     "text": [
      "14483\n",
      "2139791\n",
      "216\n"
     ]
    }
   ],
   "source": [
    "print(G.number_of_nodes())\n",
    "print(G.number_of_edges())\n",
    "print(nx.number_connected_components(G))"
   ]
  },
  {
   "cell_type": "markdown",
   "metadata": {},
   "source": [
    "# Create SPECTRA splits"
   ]
  },
  {
   "cell_type": "code",
   "execution_count": 7,
   "metadata": {},
   "outputs": [],
   "source": [
    "def run_independent_set(neighbor_lambda, input_G, tau_number, tau_mut, tau_degree, seed = None, debug=False, random_start = True):\n",
    "    total_deleted = 0\n",
    "    \n",
    "    if seed is not None:\n",
    "        random.seed(seed)\n",
    "    \n",
    "    G = input_G.copy()\n",
    "    \n",
    "    independent_set = []\n",
    "    \n",
    "    iterations = 0\n",
    "    \n",
    "    while not nx.is_empty(G):\n",
    "        if not random_start:\n",
    "            chosen_node = max(node_to_score, key=node_to_score.get)\n",
    "        else:\n",
    "            chosen_node = sample(list(G.nodes()), 1)[0]\n",
    "        \n",
    "        independent_set.append(chosen_node)\n",
    "        neighbors = G.neighbors(chosen_node)\n",
    "        neighbors_to_delete = []\n",
    "        \n",
    "        for neighbor in neighbors:\n",
    "            if neighbor_lambda == 1.0:\n",
    "                neighbors_to_delete.append(neighbor)\n",
    "            elif neighbor_lambda != 0.0:\n",
    "                if random.random() < neighbor_lambda:\n",
    "                    neighbors_to_delete.append(neighbor)\n",
    "\n",
    "        if debug:\n",
    "            print(f\"Iteration {iterations} Stats\")\n",
    "            print(f\"Deleted {len(neighbors_to_delete)} nodes\")\n",
    "            \n",
    "        for neighbor in neighbors_to_delete:\n",
    "            G.remove_node(neighbor)\n",
    "        \n",
    "        if chosen_node not in neighbors_to_delete:\n",
    "            G.remove_node(chosen_node)\n",
    "    \n",
    "        iterations += 1\n",
    "    \n",
    "    independent_set.append('NO_MUTATION')\n",
    "    if debug:\n",
    "        print(f\"Total deleted {total_deleted}\")\n",
    "    return independent_set"
   ]
  },
  {
   "cell_type": "code",
   "execution_count": 8,
   "metadata": {},
   "outputs": [],
   "source": [
    "def calculate_proportion(x_train, x_test):\n",
    " \n",
    "    def flatten(l):\n",
    "        return [item for sublist in l for item in sublist]\n",
    "    \n",
    "    \n",
    "    one = flatten([i.split(':') for i in x_train])\n",
    "    two = flatten([i.split(':') for i in x_test])\n",
    "    \n",
    "    combined_mutations = list(set(one + two))\n",
    "\n",
    "    num_overlap = 0\n",
    "    for i in combined_mutations:\n",
    "        if i in one and i in two:\n",
    "            num_overlap += 1\n",
    "    \n",
    "    return num_overlap/len(combined_mutations)"
   ]
  },
  {
   "cell_type": "code",
   "execution_count": 10,
   "metadata": {},
   "outputs": [
    {
     "name": "stdout",
     "output_type": "stream",
     "text": [
      "0.0\t0.5256410256410257\t14469\n",
      "0.025\t0.5096359743040685\t4450\n",
      "0.05\t0.47863247863247865\t2994\n",
      "0.07500000000000001\t0.47629310344827586\t2311\n",
      "0.1\t0.4606986899563319\t1915\n",
      "0.125\t0.43383947939262474\t1655\n",
      "0.15000000000000002\t0.4485776805251641\t1478\n",
      "0.17500000000000002\t0.4184549356223176\t1377\n",
      "0.2\t0.3905579399141631\t1240\n",
      "0.225\t0.391304347826087\t1157\n",
      "0.25\t0.3799126637554585\t1063\n",
      "0.275\t0.3684210526315789\t995\n",
      "0.30000000000000004\t0.37117903930131\t938\n",
      "0.325\t0.3369330453563715\t902\n",
      "0.35000000000000003\t0.3258426966292135\t836\n",
      "0.375\t0.3065217391304348\t826\n",
      "0.4\t0.33260393873085337\t801\n",
      "0.42500000000000004\t0.31756756756756754\t744\n",
      "0.45\t0.2873303167420814\t706\n",
      "0.47500000000000003\t0.2782608695652174\t712\n",
      "0.5\t0.29195402298850576\t638\n",
      "0.525\t0.25\t604\n",
      "0.55\t0.25057471264367814\t605\n",
      "0.5750000000000001\t0.21967963386727687\t575\n",
      "0.6000000000000001\t0.23326133909287258\t607\n",
      "0.625\t0.2420091324200913\t547\n",
      "0.65\t0.2191780821917808\t536\n",
      "0.675\t0.2222222222222222\t495\n",
      "0.7000000000000001\t0.18561484918793503\t496\n",
      "0.7250000000000001\t0.19036697247706422\t486\n",
      "0.75\t0.16705882352941176\t477\n",
      "0.775\t0.15594059405940594\t428\n",
      "0.8\t0.15587529976019185\t433\n",
      "0.8250000000000001\t0.14496314496314497\t406\n",
      "0.8500000000000001\t0.12962962962962962\t361\n",
      "0.875\t0.11084905660377359\t404\n",
      "0.9\t0.07077625570776255\t398\n",
      "0.925\t0.09813084112149532\t379\n",
      "0.9500000000000001\t0.04838709677419355\t371\n",
      "0.9750000000000001\t0.016901408450704224\t269\n",
      "1.0\t0.0\t226\n",
      "1.0250000000000001\t0.0\t267\n"
     ]
    }
   ],
   "source": [
    "calculated_proportions = []\n",
    "lambda_params = []\n",
    "number_samples = []\n",
    "\n",
    "for lambda_param in np.arange(0, 1.05, 0.025):\n",
    "    lambda_params.append(lambda_param)\n",
    "    result = run_independent_set(lambda_param, G, 0, 0, 0)\n",
    "    x_train ,x_test = train_test_split(result,test_size=0.2) \n",
    "    proportion = calculate_proportion(x_train, x_test)\n",
    "    calculated_proportions.append(proportion)\n",
    "    number_samples.append(len(result))\n",
    "    \n",
    "    print(f\"{lambda_param}\\t{proportion}\\t{len(result)}\")\n",
    "    result_file = open(f\"amyloid_splits/lambda_{lambda_param}.txt\", \"w\")\n",
    "    result_file.write(f\"{lambda_param}\\t{proportion}\\t{len(result)}\\n\")\n",
    "    result_file.write(f\"Train: {x_train}\\n\")\n",
    "    result_file.write(f\"Test: {x_test}\\n\")\n",
    "    result_file.close()"
   ]
  },
  {
   "cell_type": "code",
   "execution_count": 18,
   "metadata": {},
   "outputs": [],
   "source": [
    "import pickle\n",
    "pickle.dump(calculated_proportions, open('calc_prop', 'wb'))\n",
    "pickle.dump(lambda_params, open('lambda_params', 'wb'))\n",
    "pickle.dump(number_samples, open('number_samples', 'wb'))"
   ]
  },
  {
   "cell_type": "markdown",
   "metadata": {},
   "source": [
    "# Plot results"
   ]
  },
  {
   "cell_type": "code",
   "execution_count": 2,
   "metadata": {},
   "outputs": [],
   "source": [
    "%matplotlib inline\n",
    "import matplotlib.pyplot as plt\n",
    "import pickle\n",
    "\n",
    "lambda_params = pickle.load(open('lambda_params', 'rb'))\n",
    "number_samples = pickle.load(open('number_samples', 'rb'))\n",
    "calculated_proportions = pickle.load(open('calc_prop', 'rb'))"
   ]
  },
  {
   "cell_type": "code",
   "execution_count": 3,
   "metadata": {},
   "outputs": [
    {
     "data": {
      "image/png": "[encoded data removed]",
      "text/plain": [
       "<Figure size 640x480 with 2 Axes>"
      ]
     },
     "metadata": {},
     "output_type": "display_data"
    }
   ],
   "source": [
    "f, (ax1, ax2) = plt.subplots(1, 2, sharey=False)\n",
    "ax1.scatter(lambda_params, calculated_proportions)\n",
    "ax1.set_ylabel('Cross-split overlap')\n",
    "ax1.set_xlabel('Spectral parameter')\n",
    "ax1.spines[['right', 'top']].set_visible(False)\n",
    "ax2.scatter(lambda_params, number_samples)\n",
    "ax2.set_ylabel('Number of samples')\n",
    "ax2.set_xlabel('Spectral parameter')\n",
    "ax2.spines[['right', 'top']].set_visible(False)\n",
    "plt.tight_layout()\n",
    "plt.savefig('ProteinGym_Amyloid_Stats.pdf')"
   ]
  },
  {
   "cell_type": "code",
   "execution_count": 31,
   "metadata": {},
   "outputs": [
    {
     "data": {
      "text/plain": [
       "<matplotlib.collections.PathCollection at 0x7fb502547f70>"
      ]
     },
     "execution_count": 31,
     "metadata": {},
     "output_type": "execute_result"
    },
    {
     "data": {
      "image/png": "[encoded data removed]",
      "text/plain": [
       "<Figure size 432x288 with 1 Axes>"
      ]
     },
     "metadata": {
      "needs_background": "light"
     },
     "output_type": "display_data"
    }
   ],
   "source": [
    "plt.scatter(lambda_params, calculated_proportions)"
   ]
  },
  {
   "cell_type": "code",
   "execution_count": 32,
   "metadata": {},
   "outputs": [],
   "source": [
    "def find_closest(overlap, x, y):\n",
    "    min_difference = 1000000\n",
    "    best_overlap = None\n",
    "    best_param = None\n",
    "    \n",
    "    \n",
    "    for i,j in zip(x, y):\n",
    "        if abs(overlap - j) < min_difference:\n",
    "            best_param = i\n",
    "            best_overlap = j\n",
    "            min_difference = abs(overlap - j)\n",
    "    \n",
    "    print(f\"{best_overlap} and {best_param} for {overlap}\")"
   ]
  },
  {
   "cell_type": "code",
   "execution_count": 33,
   "metadata": {},
   "outputs": [
    {
     "name": "stdout",
     "output_type": "stream",
     "text": [
      "0.5031982942430704 and 0.025 for 0.5\n"
     ]
    }
   ],
   "source": [
    "find_closest(0.5, lambda_params, calculated_proportions)"
   ]
  },
  {
   "cell_type": "code",
   "execution_count": null,
   "metadata": {},
   "outputs": [],
   "source": []
  }
 ],
 "metadata": {
  "kernelspec": {
   "display_name": "Python 3",
   "language": "python",
   "name": "python3"
  },
  "language_info": {
   "codemirror_mode": {
    "name": "ipython",
    "version": 3
   },
   "file_extension": ".py",
   "mimetype": "text/x-python",
   "name": "python",
   "nbconvert_exporter": "python",
   "pygments_lexer": "ipython3",
   "version": "3.8.4"
  }
 },
 "nbformat": 4,
 "nbformat_minor": 4
}
