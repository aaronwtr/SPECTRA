{
 "cells": [
  {
   "cell_type": "code",
   "execution_count": 1,
   "metadata": {},
   "outputs": [
    {
     "name": "stdout",
     "output_type": "stream",
     "text": [
      "20:03:57   Note: NumExpr detected 32 cores but \"NUMEXPR_MAX_THREADS\" not set, so enforcing safe limit of 8.\n"
     ]
    },
    {
     "name": "stderr",
     "output_type": "stream",
     "text": [
      "/home/ye12/.local/lib/python3.8/site-packages/pandas/core/computation/expressions.py:20: UserWarning: Pandas requires version '2.7.3' or newer of 'numexpr' (version '2.7.1' currently installed).\n",
      "  from pandas.core.computation.check import NUMEXPR_INSTALLED\n"
     ]
    }
   ],
   "source": [
    "from torchdrug import datasets\n",
    "from torchdrug.data.protein import Protein\n",
    "from Bio import Align\n",
    "import pandas as pd\n",
    "from sklearn.model_selection import train_test_split\n",
    "import numpy as np\n",
    "from tqdm import tqdm\n",
    "import networkx as nx\n",
    "import random\n",
    "from random import sample\n",
    "import pickle"
   ]
  },
  {
   "cell_type": "markdown",
   "metadata": {},
   "source": [
    "# Datasest processing"
   ]
  },
  {
   "cell_type": "code",
   "execution_count": 4,
   "metadata": {},
   "outputs": [],
   "source": [
    "dataset_loc = \"PABP_YEAST_Melamed_2013.csv\"\n",
    "df = pd.read_csv(dataset_loc)\n",
    "mutants = list(df['mutant'].values)\n",
    "def get_mutations(list_mutants):\n",
    "    mutations = []\n",
    "    for i in list_mutants:\n",
    "        mutations.extend(i.split(':'))\n",
    "    return list(set(mutations))\n",
    "\n",
    "x_train, x_test = train_test_split(mutants, test_size = 0.1, random_state = 42)\n",
    "x_test, x_val = train_test_split(x_test, test_size = 0.5, random_state = 42)\n",
    "\n",
    "train_mutations = get_mutations(x_train)\n",
    "valid_mutations = get_mutations(x_val)\n",
    "test_mutations = get_mutations(x_test)"
   ]
  },
  {
   "cell_type": "markdown",
   "metadata": {},
   "source": [
    "# Cross-split overlap definition"
   ]
  },
  {
   "cell_type": "code",
   "execution_count": 5,
   "metadata": {},
   "outputs": [
    {
     "name": "stdout",
     "output_type": "stream",
     "text": [
      "test stats\t627/1188, 0.5277777777777778\n"
     ]
    }
   ],
   "source": [
    "def overlap(one, two, name):\n",
    "    combined_mutations = list(set(one + two))\n",
    "\n",
    "    num_overlap = sum([1 for i in one if i in two])\n",
    "    print(f'{name} stats\\t{num_overlap}/{len(combined_mutations)}, {num_overlap/len(combined_mutations)}')\n",
    "\n",
    "\n",
    "overlap(test_mutations, train_mutations, 'test')"
   ]
  },
  {
   "cell_type": "markdown",
   "metadata": {},
   "source": [
    "# Construct MSP Graph"
   ]
  },
  {
   "cell_type": "code",
   "execution_count": 6,
   "metadata": {},
   "outputs": [],
   "source": [
    "def create_graph(barcodes):\n",
    "    G = nx.Graph()\n",
    "\n",
    "\n",
    "    print(\"GOING TO INITIALIZE GRAPH\")\n",
    "    #Initialize Graph\n",
    "    for barcode in barcodes:\n",
    "        G.add_node(barcode)\n",
    "\n",
    "    print(\"GRAPH INITIALIZED\")\n",
    "\n",
    "    #Now we create edges between nodes based on mutational overlap\n",
    "    for bar_1 in tqdm(barcodes, total=len(barcodes)):\n",
    "        for bar_2 in barcodes:\n",
    "            if bar_1 != bar_2:\n",
    "                for mut in bar_1.split(':'):\n",
    "                    if mut in bar_2:\n",
    "                        G.add_edge(bar_1, bar_2)\n",
    "                        break\n",
    "\n",
    "    return G"
   ]
  },
  {
   "cell_type": "code",
   "execution_count": 7,
   "metadata": {},
   "outputs": [
    {
     "name": "stdout",
     "output_type": "stream",
     "text": [
      "GOING TO INITIALIZE GRAPH\n",
      "GRAPH INITIALIZED\n"
     ]
    },
    {
     "name": "stderr",
     "output_type": "stream",
     "text": [
      "100%|███████████████████████████████████████████████████████████████████████████████████████████████████████████████████| 37708/37708 [09:43<00:00, 64.60it/s]\n"
     ]
    }
   ],
   "source": [
    "G = create_graph(mutants)"
   ]
  },
  {
   "cell_type": "code",
   "execution_count": 7,
   "metadata": {},
   "outputs": [],
   "source": [
    "pickle.dump(G, open('Graph', 'wb'))"
   ]
  },
  {
   "cell_type": "code",
   "execution_count": 8,
   "metadata": {},
   "outputs": [
    {
     "name": "stdout",
     "output_type": "stream",
     "text": [
      "37708\n",
      "5269784\n",
      "134\n"
     ]
    }
   ],
   "source": [
    "print(G.number_of_nodes())\n",
    "print(G.number_of_edges())\n",
    "print(nx.number_connected_components(G))"
   ]
  },
  {
   "cell_type": "markdown",
   "metadata": {},
   "source": [
    "# Create SPECTRA splits"
   ]
  },
  {
   "cell_type": "code",
   "execution_count": null,
   "metadata": {},
   "outputs": [],
   "source": [
    "G = pickle.load(open('Graph', 'rb'))"
   ]
  },
  {
   "cell_type": "code",
   "execution_count": 9,
   "metadata": {},
   "outputs": [],
   "source": [
    "def run_independent_set(neighbor_lambda, input_G, tau_number, tau_mut, tau_degree, seed = None, debug=False, random_start = True):\n",
    "    total_deleted = 0\n",
    "    \n",
    "    if seed is not None:\n",
    "        random.seed(seed)\n",
    "    \n",
    "    #THIS MAY CAUSE BUGS! USED TO BE .copy()!\n",
    "    G = input_G.copy()\n",
    "    \n",
    "    #Now we calculated the score for every node, we go to run the algorithm\n",
    "    independent_set = []\n",
    "    \n",
    "    iterations = 0\n",
    "    \n",
    "    while not nx.is_empty(G):\n",
    "        if not random_start:\n",
    "            chosen_node = max(node_to_score, key=node_to_score.get)\n",
    "        else:\n",
    "            chosen_node = sample(list(G.nodes()), 1)[0]\n",
    "        \n",
    "        independent_set.append(chosen_node)\n",
    "        neighbors = G.neighbors(chosen_node)\n",
    "        neighbors_to_delete = []\n",
    "        \n",
    "        for neighbor in neighbors:\n",
    "            if neighbor_lambda == 1.0:\n",
    "                neighbors_to_delete.append(neighbor)\n",
    "            elif neighbor_lambda != 0.0:\n",
    "                #if random.random() < (0.1+neighbor_lambda) + 0.1 * np.log10(G[chosen_node][neighbor]['weight']+0.1):\n",
    "                if random.random() < neighbor_lambda:\n",
    "                    neighbors_to_delete.append(neighbor)\n",
    "\n",
    "        if debug:\n",
    "            print(f\"Iteration {iterations} Stats\")\n",
    "            print(f\"Deleted {len(neighbors_to_delete)} nodes\")\n",
    "            \n",
    "        for neighbor in neighbors_to_delete:\n",
    "            G.remove_node(neighbor)\n",
    "        \n",
    "        if chosen_node not in neighbors_to_delete:\n",
    "            G.remove_node(chosen_node)\n",
    "    \n",
    "        iterations += 1\n",
    "\n",
    "    if debug:\n",
    "        print(f\"Total deleted {total_deleted}\")\n",
    "    return independent_set"
   ]
  },
  {
   "cell_type": "code",
   "execution_count": 10,
   "metadata": {},
   "outputs": [],
   "source": [
    "def calculate_proportion(x_train, x_test):\n",
    " \n",
    "    def flatten(l):\n",
    "        return [item for sublist in l for item in sublist]\n",
    "    \n",
    "    \n",
    "    one = flatten([i.split(':') for i in x_train])\n",
    "    two = flatten([i.split(':') for i in x_test])\n",
    "    \n",
    "    combined_mutations = list(set(one + two))\n",
    "\n",
    "    num_overlap = 0\n",
    "    for i in combined_mutations:\n",
    "        if i in one and i in two:\n",
    "            num_overlap += 1\n",
    "    \n",
    "    return num_overlap/len(combined_mutations)"
   ]
  },
  {
   "cell_type": "code",
   "execution_count": null,
   "metadata": {},
   "outputs": [
    {
     "name": "stdout",
     "output_type": "stream",
     "text": [
      "0.0\t0.7372384937238494\t37693\n",
      "0.025\t0.6408746846089151\t11846\n",
      "0.05\t0.5912531539108494\t7966\n",
      "0.07500000000000001\t0.5785472972972973\t6286\n",
      "0.1\t0.553030303030303\t5220\n",
      "0.125\t0.5105130361648444\t4506\n",
      "0.15000000000000002\t0.49325463743676223\t3998\n",
      "0.17500000000000002\t0.4915254237288136\t3601\n",
      "0.2\t0.4543147208121827\t3302\n",
      "0.225\t0.44229149115417016\t3099\n",
      "0.25\t0.41271186440677965\t2853\n",
      "0.275\t0.4170896785109983\t2692\n",
      "0.30000000000000004\t0.3984835720303286\t2564\n",
      "0.325\t0.3732876712328767\t2357\n",
      "0.35000000000000003\t0.36712095400340716\t2248\n",
      "0.375\t0.350471293916024\t2157\n",
      "0.4\t0.3423344947735192\t2025\n",
      "0.42500000000000004\t0.333616298811545\t1989\n",
      "0.45\t0.31320103537532357\t1878\n",
      "0.47500000000000003\t0.306070826306914\t1838\n",
      "0.5\t0.30120481927710846\t1742\n",
      "0.525\t0.2905982905982906\t1687\n",
      "0.55\t0.2662671232876712\t1640\n",
      "0.5750000000000001\t0.2524357838795394\t1530\n",
      "0.6000000000000001\t0.25324114088159033\t1509\n",
      "0.625\t0.21928327645051193\t1493\n",
      "0.65\t0.22735042735042735\t1432\n",
      "0.675\t0.20324508966695132\t1410\n",
      "0.7000000000000001\t0.20508326029798424\t1311\n",
      "0.7250000000000001\t0.1866783523225241\t1293\n",
      "0.75\t0.18661971830985916\t1234\n",
      "0.775\t0.17032484635645304\t1213\n",
      "0.8\t0.1692982456140351\t1177\n",
      "0.8250000000000001\t0.1410146173688736\t1181\n",
      "0.8500000000000001\t0.12792792792792793\t1068\n",
      "0.875\t0.12042818911685994\t1061\n",
      "0.9\t0.0962566844919786\t1014\n",
      "0.925\t0.0890652557319224\t1007\n",
      "0.9500000000000001\t0.0466893039049236\t1018\n",
      "0.9750000000000001\t0.029668411867364748\t928\n"
     ]
    }
   ],
   "source": [
    "calculated_proportions = []\n",
    "lambda_params = []\n",
    "number_samples = []\n",
    "\n",
    "for lambda_param in np.arange(0, 1.05, 0.025):\n",
    "    lambda_params.append(lambda_param)\n",
    "    result = run_independent_set(lambda_param, G, 0, 0, 0)\n",
    "    x_train ,x_test = train_test_split(result,test_size=0.2) \n",
    "    proportion = calculate_proportion(x_train, x_test)\n",
    "    calculated_proportions.append(proportion)\n",
    "    number_samples.append(len(result))\n",
    "    \n",
    "    print(f\"{lambda_param}\\t{proportion}\\t{len(result)}\")\n",
    "    result_file = open(f\"rrm_splits/lambda_{lambda_param}.txt\", \"w\")\n",
    "    result_file.write(f\"{lambda_param}\\t{proportion}\\t{len(result)}\\n\")\n",
    "    result_file.write(f\"Train: {x_train}\\n\")\n",
    "    result_file.write(f\"Test: {x_test}\\n\")\n",
    "    result_file.close()"
   ]
  },
  {
   "cell_type": "code",
   "execution_count": 13,
   "metadata": {},
   "outputs": [],
   "source": [
    "import pickle\n",
    "pickle.dump(calculated_proportions, open('calc_prop', 'wb'))\n",
    "pickle.dump(lambda_params, open('lambda_params', 'wb'))\n",
    "pickle.dump(number_samples, open('number_samples', 'wb'))"
   ]
  },
  {
   "cell_type": "markdown",
   "metadata": {},
   "source": [
    "# Plot Results"
   ]
  },
  {
   "cell_type": "code",
   "execution_count": 14,
   "metadata": {},
   "outputs": [],
   "source": [
    "%matplotlib inline\n",
    "import matplotlib.pyplot as plt"
   ]
  },
  {
   "cell_type": "code",
   "execution_count": 15,
   "metadata": {},
   "outputs": [
    {
     "data": {
      "image/png": "[encoded data removed]",
      "text/plain": [
       "<Figure size 640x480 with 2 Axes>"
      ]
     },
     "metadata": {},
     "output_type": "display_data"
    }
   ],
   "source": [
    "f, (ax1, ax2) = plt.subplots(1, 2, sharey=False)\n",
    "ax1.scatter(lambda_params, calculated_proportions)\n",
    "ax1.set_ylabel('Cross-split overlap')\n",
    "ax1.set_xlabel('Separation parameter')\n",
    "ax1.spines[['right', 'top']].set_visible(False)\n",
    "ax2.scatter(lambda_params, number_samples)\n",
    "ax2.set_ylabel('Number of samples')\n",
    "ax2.set_xlabel('Separation parameter')\n",
    "ax2.spines[['right', 'top']].set_visible(False)\n",
    "plt.tight_layout()\n",
    "plt.savefig('ProteinGym_RRM_Stats.pdf')"
   ]
  },
  {
   "cell_type": "code",
   "execution_count": 16,
   "metadata": {},
   "outputs": [],
   "source": [
    "def find_closest(overlap, x, y):\n",
    "    min_difference = 1000000\n",
    "    best_overlap = None\n",
    "    best_param = None\n",
    "    \n",
    "    \n",
    "    for i,j in zip(x, y):\n",
    "        if abs(overlap - j) < min_difference:\n",
    "            best_param = i\n",
    "            best_overlap = j\n",
    "            min_difference = abs(overlap - j)\n",
    "    \n",
    "    print(f\"{best_overlap} and {best_param} for {overlap}\")"
   ]
  },
  {
   "cell_type": "code",
   "execution_count": 17,
   "metadata": {},
   "outputs": [
    {
     "name": "stdout",
     "output_type": "stream",
     "text": [
      "0.639261744966443 and 0.025 for 0.62\n"
     ]
    }
   ],
   "source": [
    "find_closest(0.62, lambda_params, calculated_proportions)"
   ]
  },
  {
   "cell_type": "code",
   "execution_count": null,
   "metadata": {},
   "outputs": [],
   "source": []
  }
 ],
 "metadata": {
  "kernelspec": {
   "display_name": "Python 3",
   "language": "python",
   "name": "python3"
  },
  "language_info": {
   "codemirror_mode": {
    "name": "ipython",
    "version": 3
   },
   "file_extension": ".py",
   "mimetype": "text/x-python",
   "name": "python",
   "nbconvert_exporter": "python",
   "pygments_lexer": "ipython3",
   "version": "3.8.4"
  }
 },
 "nbformat": 4,
 "nbformat_minor": 4
}
