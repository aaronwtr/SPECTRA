{
 "cells": [
  {
   "cell_type": "code",
   "execution_count": 28,
   "metadata": {},
   "outputs": [],
   "source": [
    "import pickle\n",
    "import seaborn as sns\n",
    "import matplotlib.pyplot as plt\n",
    "import pandas as pd\n",
    "import numpy as np"
   ]
  },
  {
   "cell_type": "code",
   "execution_count": 55,
   "metadata": {},
   "outputs": [],
   "source": [
    "lambda_params = [float('%.3g' % i) for i in pickle.load(open('lambda_param', 'rb'))]\n",
    "calculated_proportions = pickle.load(open('calculated_proportions', 'rb'))\n",
    "number_samples = pickle.load(open('number_samples', 'rb'))"
   ]
  },
  {
   "cell_type": "code",
   "execution_count": 58,
   "metadata": {},
   "outputs": [
    {
     "data": {
      "image/png": "[encoded data removed]",
      "text/plain": [
       "<Figure size 432x288 with 1 Axes>"
      ]
     },
     "metadata": {
      "needs_background": "light"
     },
     "output_type": "display_data"
    }
   ],
   "source": [
    "sns.set_palette('colorblind')\n",
    "df = pd.DataFrame({'x': lambda_params, 'y': calculated_proportions, 'label': [1 if i in [0.55, 0.45, 0.575, 0.275] else 0 for i in lambda_params]})\n",
    "ax1 = sns.scatterplot(x = 'x', y = 'y', data = df, s = 50, hue= 'label')\n",
    "ax1.set_ylabel('Cross-split overlap', fontsize=20, family='Arial')\n",
    "ax1.tick_params(axis='both', which='major', labelsize=15)\n",
    "ax1.set_xlabel('Spectral parameter', fontsize=20, family='Arial')\n",
    "sns.set_context(\"paper\")\n",
    "ax1.get_legend().remove()\n",
    "plt.tight_layout()\n",
    "sns.despine()\n",
    "plt.savefig('PDBind_cross_split_overlap_curve.pdf',  bbox_inches='tight')"
   ]
  },
  {
   "cell_type": "code",
   "execution_count": 31,
   "metadata": {},
   "outputs": [],
   "source": [
    "def find_closest(overlap, x, y):\n",
    "    min_difference = 1000000\n",
    "    best_overlap = None\n",
    "    best_param = None\n",
    "    \n",
    "    \n",
    "    for i,j in zip(x, y):\n",
    "        if abs(overlap - j) < min_difference:\n",
    "            best_param = i\n",
    "            best_overlap = j\n",
    "            min_difference = abs(overlap - j)\n",
    "    \n",
    "    return f\"{best_overlap} and {best_param} for {overlap}\""
   ]
  },
  {
   "cell_type": "code",
   "execution_count": 32,
   "metadata": {},
   "outputs": [
    {
     "name": "stdout",
     "output_type": "stream",
     "text": [
      "Equibind results 0.757527733755943 and 0.55 for 0.76\n",
      "Astex results 0.8196022727272727 and 0.45 for 0.82\n",
      "Posebusters results 0.7357859531772575 and 0.5750000000000001 for 0.7\n",
      "LPPDB results 0.9093851132686084 and 0.275 for 0.9\n"
     ]
    }
   ],
   "source": [
    "\"\"\"\n",
    "Precalculated overlaps\n",
    "\n",
    "Equibind: 276/363 = 0.76\n",
    "Astex: 70/85 = 0.82\n",
    "Posebusters: 301/428 = 0.70\n",
    "LPPDBind: 4347/4826 = 0.90\n",
    "\n",
    "\"\"\"\n",
    "\n",
    "print(f\"Equibind results {find_closest(0.76, lambda_params, calculated_proportions)}\")\n",
    "print(f\"Astex results {find_closest(0.82, lambda_params, calculated_proportions)}\")\n",
    "print(f\"Posebusters results {find_closest(0.70, lambda_params, calculated_proportions)}\")\n",
    "print(f\"LPPDB results {find_closest(0.90, lambda_params, calculated_proportions)}\")"
   ]
  },
  {
   "cell_type": "code",
   "execution_count": 33,
   "metadata": {},
   "outputs": [],
   "source": [
    "PDB_results = {\n",
    "    \n",
    "        'model': ['Equibind','Equibind', 'Equibind', \n",
    "                        'Diffdock', 'Diffdock', 'Diffdock',\n",
    "                        'Tankbind', 'Tankbind', 'Tankbind'],\n",
    "               \n",
    "        'split': ['Equibind', 'Astex', 'Posebusters',\n",
    "                  'Equibind', 'Astex', 'Posebusters', \n",
    "                  'Equibind', 'Astex', 'Posebusters'],\n",
    "               \n",
    "        'performance': [0.055, 0.071, 0.02, 0.38, 0.72, 0.38, 0.20, 0.59, 0.16], \n",
    "               \n",
    "         'SP': [0.55, 0.45, 0.575, 0.55, 0.45, 0.575,0.55, 0.45, 0.575]\n",
    "    \n",
    "              } \n",
    "PDB_results = pd.DataFrame(PDB_results)"
   ]
  },
  {
   "cell_type": "code",
   "execution_count": 34,
   "metadata": {},
   "outputs": [
    {
     "data": {
      "text/html": [
       "<div>\n",
       "<style scoped>\n",
       "    .dataframe tbody tr th:only-of-type {\n",
       "        vertical-align: middle;\n",
       "    }\n",
       "\n",
       "    .dataframe tbody tr th {\n",
       "        vertical-align: top;\n",
       "    }\n",
       "\n",
       "    .dataframe thead th {\n",
       "        text-align: right;\n",
       "    }\n",
       "</style>\n",
       "<table border=\"1\" class=\"dataframe\">\n",
       "  <thead>\n",
       "    <tr style=\"text-align: right;\">\n",
       "      <th></th>\n",
       "      <th>model</th>\n",
       "      <th>split</th>\n",
       "      <th>performance</th>\n",
       "      <th>SP</th>\n",
       "    </tr>\n",
       "  </thead>\n",
       "  <tbody>\n",
       "    <tr>\n",
       "      <th>0</th>\n",
       "      <td>Equibind</td>\n",
       "      <td>Equibind</td>\n",
       "      <td>0.055</td>\n",
       "      <td>0.550</td>\n",
       "    </tr>\n",
       "    <tr>\n",
       "      <th>1</th>\n",
       "      <td>Equibind</td>\n",
       "      <td>Astex</td>\n",
       "      <td>0.071</td>\n",
       "      <td>0.450</td>\n",
       "    </tr>\n",
       "    <tr>\n",
       "      <th>2</th>\n",
       "      <td>Equibind</td>\n",
       "      <td>Posebusters</td>\n",
       "      <td>0.020</td>\n",
       "      <td>0.575</td>\n",
       "    </tr>\n",
       "    <tr>\n",
       "      <th>3</th>\n",
       "      <td>Diffdock</td>\n",
       "      <td>Equibind</td>\n",
       "      <td>0.380</td>\n",
       "      <td>0.550</td>\n",
       "    </tr>\n",
       "    <tr>\n",
       "      <th>4</th>\n",
       "      <td>Diffdock</td>\n",
       "      <td>Astex</td>\n",
       "      <td>0.720</td>\n",
       "      <td>0.450</td>\n",
       "    </tr>\n",
       "    <tr>\n",
       "      <th>5</th>\n",
       "      <td>Diffdock</td>\n",
       "      <td>Posebusters</td>\n",
       "      <td>0.380</td>\n",
       "      <td>0.575</td>\n",
       "    </tr>\n",
       "    <tr>\n",
       "      <th>6</th>\n",
       "      <td>Tankbind</td>\n",
       "      <td>Equibind</td>\n",
       "      <td>0.200</td>\n",
       "      <td>0.550</td>\n",
       "    </tr>\n",
       "    <tr>\n",
       "      <th>7</th>\n",
       "      <td>Tankbind</td>\n",
       "      <td>Astex</td>\n",
       "      <td>0.590</td>\n",
       "      <td>0.450</td>\n",
       "    </tr>\n",
       "    <tr>\n",
       "      <th>8</th>\n",
       "      <td>Tankbind</td>\n",
       "      <td>Posebusters</td>\n",
       "      <td>0.160</td>\n",
       "      <td>0.575</td>\n",
       "    </tr>\n",
       "  </tbody>\n",
       "</table>\n",
       "</div>"
      ],
      "text/plain": [
       "      model        split  performance     SP\n",
       "0  Equibind     Equibind        0.055  0.550\n",
       "1  Equibind        Astex        0.071  0.450\n",
       "2  Equibind  Posebusters        0.020  0.575\n",
       "3  Diffdock     Equibind        0.380  0.550\n",
       "4  Diffdock        Astex        0.720  0.450\n",
       "5  Diffdock  Posebusters        0.380  0.575\n",
       "6  Tankbind     Equibind        0.200  0.550\n",
       "7  Tankbind        Astex        0.590  0.450\n",
       "8  Tankbind  Posebusters        0.160  0.575"
      ]
     },
     "execution_count": 34,
     "metadata": {},
     "output_type": "execute_result"
    }
   ],
   "source": [
    "PDB_results"
   ]
  },
  {
   "cell_type": "code",
   "execution_count": 41,
   "metadata": {},
   "outputs": [
    {
     "data": {
      "image/png": "[encoded data removed]",
      "text/plain": [
       "<Figure size 432x288 with 1 Axes>"
      ]
     },
     "metadata": {
      "needs_background": "light"
     },
     "output_type": "display_data"
    }
   ],
   "source": [
    "sns.set_palette('colorblind')\n",
    "ax1 = sns.scatterplot(x = 'SP', y = 'performance', data = PDB_results, hue= 'model', s = 50)\n",
    "ax1.set_ylabel('Docking accuracy', fontsize=20, family='Arial')\n",
    "ax1.tick_params(axis='both', which='major', labelsize=15)\n",
    "ax1.set_xlabel('Spectral parameter', fontsize=20, family='Arial')\n",
    "ax1.set_xlim(0,1)\n",
    "ax1.set_ylim(0,1)\n",
    "sns.set_context(\"paper\")\n",
    "plt.tight_layout()\n",
    "plt.legend(prop={'size': 15}, bbox_to_anchor=(0.5, -0.2),loc='upper center', ncol=3)\n",
    "sns.despine()\n",
    "plt.savefig('PDBind_Spectral_Performance_Curve.pdf',  bbox_inches='tight')"
   ]
  },
  {
   "cell_type": "code",
   "execution_count": null,
   "metadata": {},
   "outputs": [],
   "source": [
    "#Percent of prediction with RSMD < 2 Angstroms"
   ]
  }
 ],
 "metadata": {
  "kernelspec": {
   "display_name": "Python 3",
   "language": "python",
   "name": "python3"
  },
  "language_info": {
   "codemirror_mode": {
    "name": "ipython",
    "version": 3
   },
   "file_extension": ".py",
   "mimetype": "text/x-python",
   "name": "python",
   "nbconvert_exporter": "python",
   "pygments_lexer": "ipython3",
   "version": "3.7.2"
  }
 },
 "nbformat": 4,
 "nbformat_minor": 2
}
