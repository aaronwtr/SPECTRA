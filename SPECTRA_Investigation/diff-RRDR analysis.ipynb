{
 "cells": [
  {
   "cell_type": "code",
   "execution_count": 1,
   "metadata": {},
   "outputs": [],
   "source": [
    "import argparse\n",
    "import os\n",
    "import pandas as pd\n",
    "import numpy as np\n",
    "import pathlib\n",
    "import seaborn as sns\n",
    "import matplotlib.pyplot as plt"
   ]
  },
  {
   "cell_type": "markdown",
   "metadata": {},
   "source": [
    "# Pull relevant data \n",
    "\n",
    "### Pull in sample barcodes and sequences for RIF samples and model performance results on the RIF dataset"
   ]
  },
  {
   "cell_type": "code",
   "execution_count": 2,
   "metadata": {},
   "outputs": [],
   "source": [
    "pos_seen = []\n",
    "number_to_barcode = {}\n",
    "number_to_sequence = {}\n",
    "for line in open('mutational_barcodes_reg_RIF', 'r').readlines():\n",
    "    data = line.split('\\t')\n",
    "    number_to_barcode[data[0]] = data[1].rstrip()\n",
    "\n",
    "for line in open('sequences_RIF', 'r').readlines():\n",
    "    data = line.split('\\t')\n",
    "    number_to_sequence[data[0]] = data[1].rstrip()\n",
    "\n",
    "\n",
    "\n"
   ]
  },
  {
   "cell_type": "code",
   "execution_count": 3,
   "metadata": {},
   "outputs": [],
   "source": [
    "rif_perf = pd.read_csv('RIF_TEST_RESULT')"
   ]
  },
  {
   "cell_type": "code",
   "execution_count": 4,
   "metadata": {},
   "outputs": [],
   "source": [
    "df = pd.read_csv('sequences_RIF',header= None, sep='\\t')\n",
    "df = df[df[1] == 'rpoB-rpoC']"
   ]
  },
  {
   "cell_type": "markdown",
   "metadata": {},
   "source": [
    "# Define diff-RRDR and calculate it on all generated RIF splits"
   ]
  },
  {
   "cell_type": "code",
   "execution_count": 10,
   "metadata": {},
   "outputs": [],
   "source": [
    "def determine_prop_rrdr_mutations(isolates, phenotypes):\n",
    "    \n",
    "    def rrdr_mutation(x):\n",
    "        num_mut = 0\n",
    "        positions_seen_rrdr = []\n",
    "        for i in x.split('-'):\n",
    "            if '[759807, 767320]' in i:\n",
    "                if int(i.split(':')[1]) < 763325:\n",
    "                    pos = (int(i.split(':')[1]) - 759807) // 3\n",
    "                    if pos >= 426 and pos <= 452:\n",
    "                        positions_seen_rrdr.append(pos)\n",
    "\n",
    "        return positions_seen_rrdr\n",
    "    \n",
    "    rrdr_positions_seen = []\n",
    "    \n",
    "    for i, z in zip(isolates, phenotypes):\n",
    "        if rrdr_mutation(number_to_barcode[i]) and int(z):\n",
    "            pos_seen = rrdr_mutation(number_to_barcode[i])\n",
    "            rrdr_positions_seen.extend(pos_seen)\n",
    "    \n",
    "    return rrdr_positions_seen\n",
    "\n",
    "def get_isolates(filename, phenotype = False):\n",
    "    isolates = []\n",
    "    phenotypes = []\n",
    "    for i in open(filename, 'r').readlines():\n",
    "        if not phenotype:\n",
    "            isolates.append(i.split('\\t')[0])\n",
    "            phenotypes.append(i.split('\\t')[1])\n",
    "        else:\n",
    "            if int(i.split('\\t')[1]):\n",
    "                isolates.append(i.split('\\t')[0])\n",
    "    return isolates, phenotypes\n",
    "\n",
    "        "
   ]
  },
  {
   "cell_type": "code",
   "execution_count": 11,
   "metadata": {
    "scrolled": false
   },
   "outputs": [],
   "source": [
    "SP = []\n",
    "num_val = []\n",
    "y = []\n",
    "\n",
    "for num in range(3):\n",
    "        for i in range(21):\n",
    "                lambda_value = float(str(float(i)*0.05)[:4])\n",
    "                train_filepath = f\"{str(pathlib.Path().resolve())}/RIF_mutational_split/RIF_{lambda_value}_MUTATION_SPLIT_{num}_TRAIN\"\n",
    "                test_filepath = f\"{str(pathlib.Path().resolve())}/RIF_mutational_split/RIF_{lambda_value}_MUTATION_SPLIT_{num}_TEST\"\n",
    "\n",
    "                train_rrdr_pos_seen = determine_prop_rrdr_mutations(*get_isolates(train_filepath))\n",
    "                test_rrdr_pos_seen = determine_prop_rrdr_mutations(*get_isolates(test_filepath))\n",
    "\n",
    "                    \n",
    "                distances = []\n",
    "                distances.append(abs(np.max(train_rrdr_pos_seen) - np.max(test_rrdr_pos_seen)))\n",
    "                distances.append(abs(np.min(train_rrdr_pos_seen) - np.min(test_rrdr_pos_seen)))\n",
    "                \n",
    "\n",
    "                y.append(np.sum(distances))\n",
    "                SP.append(lambda_value)\n",
    "                num_val.append(num)"
   ]
  },
  {
   "cell_type": "code",
   "execution_count": 12,
   "metadata": {},
   "outputs": [
    {
     "data": {
      "text/plain": [
       "<matplotlib.collections.PathCollection at 0x7fa91272d978>"
      ]
     },
     "execution_count": 12,
     "metadata": {},
     "output_type": "execute_result"
    },
    {
     "data": {
      "image/png": "[encoded data removed]",
      "text/plain": [
       "<Figure size 432x288 with 1 Axes>"
      ]
     },
     "metadata": {
      "needs_background": "light"
     },
     "output_type": "display_data"
    }
   ],
   "source": [
    "plt.scatter(SP, y)"
   ]
  },
  {
   "cell_type": "markdown",
   "metadata": {},
   "source": [
    "# Consolidate results and see if diff-RRDR correlates with model test performance"
   ]
  },
  {
   "cell_type": "code",
   "execution_count": 19,
   "metadata": {},
   "outputs": [],
   "source": [
    "result = pd.DataFrame({'Spectral Parameter':SP, 'Number': num_val, 'diff-RRDR': y})"
   ]
  },
  {
   "cell_type": "code",
   "execution_count": 27,
   "metadata": {},
   "outputs": [],
   "source": [
    "final_result = pd.merge(result, rif_perf.rename(columns = {'lambda_param': 'Spectral Parameter', 'number': 'Number'}), on=['Spectral Parameter', 'Number'])\n",
    "final_result = final_result.groupby(['Spectral Parameter', 'Number', 'model', 'drug']).mean().reset_index()[['Spectral Parameter', 'model', 'drug', 'Number', 'diff-RRDR', 'auc_mean']]"
   ]
  },
  {
   "cell_type": "code",
   "execution_count": 28,
   "metadata": {},
   "outputs": [
    {
     "data": {
      "text/html": [
       "<div>\n",
       "<style scoped>\n",
       "    .dataframe tbody tr th:only-of-type {\n",
       "        vertical-align: middle;\n",
       "    }\n",
       "\n",
       "    .dataframe tbody tr th {\n",
       "        vertical-align: top;\n",
       "    }\n",
       "\n",
       "    .dataframe thead th {\n",
       "        text-align: right;\n",
       "    }\n",
       "</style>\n",
       "<table border=\"1\" class=\"dataframe\">\n",
       "  <thead>\n",
       "    <tr style=\"text-align: right;\">\n",
       "      <th></th>\n",
       "      <th>Spectral Parameter</th>\n",
       "      <th>model</th>\n",
       "      <th>drug</th>\n",
       "      <th>Number</th>\n",
       "      <th>diff-RRDR</th>\n",
       "      <th>auc_mean</th>\n",
       "    </tr>\n",
       "  </thead>\n",
       "  <tbody>\n",
       "    <tr>\n",
       "      <th>0</th>\n",
       "      <td>0.0</td>\n",
       "      <td>CNN</td>\n",
       "      <td>RIF</td>\n",
       "      <td>0</td>\n",
       "      <td>1.0</td>\n",
       "      <td>0.970836</td>\n",
       "    </tr>\n",
       "    <tr>\n",
       "      <th>1</th>\n",
       "      <td>0.0</td>\n",
       "      <td>ESM2</td>\n",
       "      <td>RIF</td>\n",
       "      <td>0</td>\n",
       "      <td>1.0</td>\n",
       "      <td>0.951401</td>\n",
       "    </tr>\n",
       "    <tr>\n",
       "      <th>2</th>\n",
       "      <td>0.0</td>\n",
       "      <td>ESM2-Finetuned</td>\n",
       "      <td>RIF</td>\n",
       "      <td>0</td>\n",
       "      <td>1.0</td>\n",
       "      <td>0.872333</td>\n",
       "    </tr>\n",
       "    <tr>\n",
       "      <th>3</th>\n",
       "      <td>0.0</td>\n",
       "      <td>CNN</td>\n",
       "      <td>RIF</td>\n",
       "      <td>1</td>\n",
       "      <td>0.0</td>\n",
       "      <td>0.973373</td>\n",
       "    </tr>\n",
       "    <tr>\n",
       "      <th>4</th>\n",
       "      <td>0.0</td>\n",
       "      <td>ESM2</td>\n",
       "      <td>RIF</td>\n",
       "      <td>1</td>\n",
       "      <td>0.0</td>\n",
       "      <td>0.954937</td>\n",
       "    </tr>\n",
       "    <tr>\n",
       "      <th>...</th>\n",
       "      <td>...</td>\n",
       "      <td>...</td>\n",
       "      <td>...</td>\n",
       "      <td>...</td>\n",
       "      <td>...</td>\n",
       "      <td>...</td>\n",
       "    </tr>\n",
       "    <tr>\n",
       "      <th>183</th>\n",
       "      <td>1.0</td>\n",
       "      <td>ESM2</td>\n",
       "      <td>RIF</td>\n",
       "      <td>1</td>\n",
       "      <td>3.0</td>\n",
       "      <td>0.826214</td>\n",
       "    </tr>\n",
       "    <tr>\n",
       "      <th>184</th>\n",
       "      <td>1.0</td>\n",
       "      <td>ESM2-Finetuned</td>\n",
       "      <td>RIF</td>\n",
       "      <td>1</td>\n",
       "      <td>3.0</td>\n",
       "      <td>0.718479</td>\n",
       "    </tr>\n",
       "    <tr>\n",
       "      <th>185</th>\n",
       "      <td>1.0</td>\n",
       "      <td>CNN</td>\n",
       "      <td>RIF</td>\n",
       "      <td>2</td>\n",
       "      <td>3.0</td>\n",
       "      <td>0.783654</td>\n",
       "    </tr>\n",
       "    <tr>\n",
       "      <th>186</th>\n",
       "      <td>1.0</td>\n",
       "      <td>ESM2</td>\n",
       "      <td>RIF</td>\n",
       "      <td>2</td>\n",
       "      <td>3.0</td>\n",
       "      <td>0.958816</td>\n",
       "    </tr>\n",
       "    <tr>\n",
       "      <th>187</th>\n",
       "      <td>1.0</td>\n",
       "      <td>ESM2-Finetuned</td>\n",
       "      <td>RIF</td>\n",
       "      <td>2</td>\n",
       "      <td>3.0</td>\n",
       "      <td>0.666934</td>\n",
       "    </tr>\n",
       "  </tbody>\n",
       "</table>\n",
       "<p>188 rows × 6 columns</p>\n",
       "</div>"
      ],
      "text/plain": [
       "     Spectral Parameter           model drug  Number  diff-RRDR  auc_mean\n",
       "0                   0.0             CNN  RIF       0        1.0  0.970836\n",
       "1                   0.0            ESM2  RIF       0        1.0  0.951401\n",
       "2                   0.0  ESM2-Finetuned  RIF       0        1.0  0.872333\n",
       "3                   0.0             CNN  RIF       1        0.0  0.973373\n",
       "4                   0.0            ESM2  RIF       1        0.0  0.954937\n",
       "..                  ...             ...  ...     ...        ...       ...\n",
       "183                 1.0            ESM2  RIF       1        3.0  0.826214\n",
       "184                 1.0  ESM2-Finetuned  RIF       1        3.0  0.718479\n",
       "185                 1.0             CNN  RIF       2        3.0  0.783654\n",
       "186                 1.0            ESM2  RIF       2        3.0  0.958816\n",
       "187                 1.0  ESM2-Finetuned  RIF       2        3.0  0.666934\n",
       "\n",
       "[188 rows x 6 columns]"
      ]
     },
     "execution_count": 28,
     "metadata": {},
     "output_type": "execute_result"
    }
   ],
   "source": [
    "final_result"
   ]
  },
  {
   "cell_type": "code",
   "execution_count": 29,
   "metadata": {},
   "outputs": [
    {
     "data": {
      "text/plain": [
       "<matplotlib.collections.PathCollection at 0x7fa902ddbb00>"
      ]
     },
     "execution_count": 29,
     "metadata": {},
     "output_type": "execute_result"
    },
    {
     "data": {
      "image/png": "[encoded data removed]",
      "text/plain": [
       "<Figure size 432x288 with 1 Axes>"
      ]
     },
     "metadata": {
      "needs_background": "light"
     },
     "output_type": "display_data"
    }
   ],
   "source": [
    "plt.scatter(final_result[final_result['model'] == 'CNN']['diff-RRDR'], final_result[final_result['model'] == 'CNN']['auc_mean'])"
   ]
  },
  {
   "cell_type": "code",
   "execution_count": 30,
   "metadata": {},
   "outputs": [
    {
     "data": {
      "text/plain": [
       "<matplotlib.collections.PathCollection at 0x7fa902ec48d0>"
      ]
     },
     "execution_count": 30,
     "metadata": {},
     "output_type": "execute_result"
    },
    {
     "data": {
      "image/png": "[encoded data removed]",
      "text/plain": [
       "<Figure size 432x288 with 1 Axes>"
      ]
     },
     "metadata": {
      "needs_background": "light"
     },
     "output_type": "display_data"
    }
   ],
   "source": [
    "plt.scatter(final_result[final_result['model'] == 'ESM2']['diff-RRDR'], final_result[final_result['model'] == 'ESM2']['auc_mean'])"
   ]
  },
  {
   "cell_type": "code",
   "execution_count": 31,
   "metadata": {},
   "outputs": [
    {
     "data": {
      "text/plain": [
       "SpearmanrResult(correlation=-0.5920216796542679, pvalue=3.2140968299202257e-07)"
      ]
     },
     "execution_count": 31,
     "metadata": {},
     "output_type": "execute_result"
    }
   ],
   "source": [
    "from scipy.stats import spearmanr\n",
    "x_1 = final_result[final_result['model'] == 'CNN']['diff-RRDR']\n",
    "y_1 = final_result[final_result['model'] == 'CNN']['auc_mean']\n",
    "\n",
    "spearmanr(x_1, y_1)"
   ]
  },
  {
   "cell_type": "code",
   "execution_count": 32,
   "metadata": {},
   "outputs": [
    {
     "data": {
      "text/plain": [
       "SpearmanrResult(correlation=-0.47221182112898324, pvalue=9.333396212744513e-05)"
      ]
     },
     "execution_count": 32,
     "metadata": {},
     "output_type": "execute_result"
    }
   ],
   "source": [
    "x_1 = final_result[final_result['model'] == 'ESM2']['diff-RRDR']\n",
    "y_1 = final_result[final_result['model'] == 'ESM2']['auc_mean']\n",
    "\n",
    "spearmanr(x_1, y_1)"
   ]
  },
  {
   "cell_type": "code",
   "execution_count": 35,
   "metadata": {},
   "outputs": [
    {
     "data": {
      "text/html": [
       "<div>\n",
       "<style scoped>\n",
       "    .dataframe tbody tr th:only-of-type {\n",
       "        vertical-align: middle;\n",
       "    }\n",
       "\n",
       "    .dataframe tbody tr th {\n",
       "        vertical-align: top;\n",
       "    }\n",
       "\n",
       "    .dataframe thead th {\n",
       "        text-align: right;\n",
       "    }\n",
       "</style>\n",
       "<table border=\"1\" class=\"dataframe\">\n",
       "  <thead>\n",
       "    <tr style=\"text-align: right;\">\n",
       "      <th></th>\n",
       "      <th>Spectral Parameter</th>\n",
       "      <th>model</th>\n",
       "      <th>drug</th>\n",
       "      <th>Number</th>\n",
       "      <th>diff-RRDR</th>\n",
       "      <th>auc_mean</th>\n",
       "    </tr>\n",
       "  </thead>\n",
       "  <tbody>\n",
       "    <tr>\n",
       "      <th>161</th>\n",
       "      <td>0.9</td>\n",
       "      <td>CNN</td>\n",
       "      <td>RIF</td>\n",
       "      <td>0</td>\n",
       "      <td>3.0</td>\n",
       "      <td>0.779453</td>\n",
       "    </tr>\n",
       "    <tr>\n",
       "      <th>164</th>\n",
       "      <td>0.9</td>\n",
       "      <td>CNN</td>\n",
       "      <td>RIF</td>\n",
       "      <td>1</td>\n",
       "      <td>25.0</td>\n",
       "      <td>0.596529</td>\n",
       "    </tr>\n",
       "    <tr>\n",
       "      <th>167</th>\n",
       "      <td>0.9</td>\n",
       "      <td>CNN</td>\n",
       "      <td>RIF</td>\n",
       "      <td>2</td>\n",
       "      <td>8.0</td>\n",
       "      <td>0.579589</td>\n",
       "    </tr>\n",
       "  </tbody>\n",
       "</table>\n",
       "</div>"
      ],
      "text/plain": [
       "     Spectral Parameter model drug  Number  diff-RRDR  auc_mean\n",
       "161                 0.9   CNN  RIF       0        3.0  0.779453\n",
       "164                 0.9   CNN  RIF       1       25.0  0.596529\n",
       "167                 0.9   CNN  RIF       2        8.0  0.579589"
      ]
     },
     "execution_count": 35,
     "metadata": {},
     "output_type": "execute_result"
    }
   ],
   "source": [
    "final_result[(final_result['Spectral Parameter'] == 0.9)&(final_result['model'] == 'CNN')]"
   ]
  },
  {
   "cell_type": "code",
   "execution_count": 33,
   "metadata": {},
   "outputs": [
    {
     "data": {
      "text/plain": [
       "0.2564157171760195"
      ]
     },
     "execution_count": 33,
     "metadata": {},
     "output_type": "execute_result"
    }
   ],
   "source": [
    "1 - (0.579589/0.779453)"
   ]
  },
  {
   "cell_type": "code",
   "execution_count": 37,
   "metadata": {},
   "outputs": [
    {
     "data": {
      "text/plain": [
       "0.09048865605514683"
      ]
     },
     "execution_count": 37,
     "metadata": {},
     "output_type": "execute_result"
    }
   ],
   "source": [
    "np.std([0.579589, 0.596529, 0.779453])"
   ]
  },
  {
   "cell_type": "code",
   "execution_count": 36,
   "metadata": {},
   "outputs": [
    {
     "data": {
      "text/html": [
       "<div>\n",
       "<style scoped>\n",
       "    .dataframe tbody tr th:only-of-type {\n",
       "        vertical-align: middle;\n",
       "    }\n",
       "\n",
       "    .dataframe tbody tr th {\n",
       "        vertical-align: top;\n",
       "    }\n",
       "\n",
       "    .dataframe thead th {\n",
       "        text-align: right;\n",
       "    }\n",
       "</style>\n",
       "<table border=\"1\" class=\"dataframe\">\n",
       "  <thead>\n",
       "    <tr style=\"text-align: right;\">\n",
       "      <th></th>\n",
       "      <th>Spectral Parameter</th>\n",
       "      <th>model</th>\n",
       "      <th>drug</th>\n",
       "      <th>Number</th>\n",
       "      <th>diff-RRDR</th>\n",
       "      <th>auc_mean</th>\n",
       "    </tr>\n",
       "  </thead>\n",
       "  <tbody>\n",
       "    <tr>\n",
       "      <th>170</th>\n",
       "      <td>0.95</td>\n",
       "      <td>CNN</td>\n",
       "      <td>RIF</td>\n",
       "      <td>0</td>\n",
       "      <td>5.0</td>\n",
       "      <td>0.782962</td>\n",
       "    </tr>\n",
       "    <tr>\n",
       "      <th>173</th>\n",
       "      <td>0.95</td>\n",
       "      <td>CNN</td>\n",
       "      <td>RIF</td>\n",
       "      <td>1</td>\n",
       "      <td>3.0</td>\n",
       "      <td>0.736928</td>\n",
       "    </tr>\n",
       "    <tr>\n",
       "      <th>176</th>\n",
       "      <td>0.95</td>\n",
       "      <td>CNN</td>\n",
       "      <td>RIF</td>\n",
       "      <td>2</td>\n",
       "      <td>17.0</td>\n",
       "      <td>0.538967</td>\n",
       "    </tr>\n",
       "  </tbody>\n",
       "</table>\n",
       "</div>"
      ],
      "text/plain": [
       "     Spectral Parameter model drug  Number  diff-RRDR  auc_mean\n",
       "170                0.95   CNN  RIF       0        5.0  0.782962\n",
       "173                0.95   CNN  RIF       1        3.0  0.736928\n",
       "176                0.95   CNN  RIF       2       17.0  0.538967"
      ]
     },
     "execution_count": 36,
     "metadata": {},
     "output_type": "execute_result"
    }
   ],
   "source": [
    "final_result[(final_result['Spectral Parameter'] == 0.95)&(final_result['model'] == 'CNN')]"
   ]
  },
  {
   "cell_type": "code",
   "execution_count": 34,
   "metadata": {},
   "outputs": [
    {
     "data": {
      "text/plain": [
       "0.31163070493842615"
      ]
     },
     "execution_count": 34,
     "metadata": {},
     "output_type": "execute_result"
    }
   ],
   "source": [
    "1 - (0.538967/0.782962)"
   ]
  },
  {
   "cell_type": "code",
   "execution_count": 38,
   "metadata": {},
   "outputs": [
    {
     "data": {
      "text/plain": [
       "0.10585170271133523"
      ]
     },
     "execution_count": 38,
     "metadata": {},
     "output_type": "execute_result"
    }
   ],
   "source": [
    "np.std([0.782962,0.736928, 0.538967])"
   ]
  },
  {
   "cell_type": "code",
   "execution_count": 37,
   "metadata": {},
   "outputs": [
    {
     "data": {
      "text/html": [
       "<div>\n",
       "<style scoped>\n",
       "    .dataframe tbody tr th:only-of-type {\n",
       "        vertical-align: middle;\n",
       "    }\n",
       "\n",
       "    .dataframe tbody tr th {\n",
       "        vertical-align: top;\n",
       "    }\n",
       "\n",
       "    .dataframe thead th {\n",
       "        text-align: right;\n",
       "    }\n",
       "</style>\n",
       "<table border=\"1\" class=\"dataframe\">\n",
       "  <thead>\n",
       "    <tr style=\"text-align: right;\">\n",
       "      <th></th>\n",
       "      <th>Spectral Parameter</th>\n",
       "      <th>model</th>\n",
       "      <th>drug</th>\n",
       "      <th>Number</th>\n",
       "      <th>diff-RRDR</th>\n",
       "      <th>auc_mean</th>\n",
       "    </tr>\n",
       "  </thead>\n",
       "  <tbody>\n",
       "    <tr>\n",
       "      <th>179</th>\n",
       "      <td>1.0</td>\n",
       "      <td>CNN</td>\n",
       "      <td>RIF</td>\n",
       "      <td>0</td>\n",
       "      <td>20.0</td>\n",
       "      <td>0.603355</td>\n",
       "    </tr>\n",
       "    <tr>\n",
       "      <th>182</th>\n",
       "      <td>1.0</td>\n",
       "      <td>CNN</td>\n",
       "      <td>RIF</td>\n",
       "      <td>1</td>\n",
       "      <td>3.0</td>\n",
       "      <td>0.751384</td>\n",
       "    </tr>\n",
       "    <tr>\n",
       "      <th>185</th>\n",
       "      <td>1.0</td>\n",
       "      <td>CNN</td>\n",
       "      <td>RIF</td>\n",
       "      <td>2</td>\n",
       "      <td>3.0</td>\n",
       "      <td>0.783654</td>\n",
       "    </tr>\n",
       "  </tbody>\n",
       "</table>\n",
       "</div>"
      ],
      "text/plain": [
       "     Spectral Parameter model drug  Number  diff-RRDR  auc_mean\n",
       "179                 1.0   CNN  RIF       0       20.0  0.603355\n",
       "182                 1.0   CNN  RIF       1        3.0  0.751384\n",
       "185                 1.0   CNN  RIF       2        3.0  0.783654"
      ]
     },
     "execution_count": 37,
     "metadata": {},
     "output_type": "execute_result"
    }
   ],
   "source": [
    "final_result[(final_result['Spectral Parameter'] == 1.0)&(final_result['model'] == 'CNN')]"
   ]
  },
  {
   "cell_type": "code",
   "execution_count": 35,
   "metadata": {},
   "outputs": [
    {
     "data": {
      "text/plain": [
       "0.2300747523779627"
      ]
     },
     "execution_count": 35,
     "metadata": {},
     "output_type": "execute_result"
    }
   ],
   "source": [
    "1 - (0.603355/0.783654)"
   ]
  },
  {
   "cell_type": "code",
   "execution_count": 39,
   "metadata": {},
   "outputs": [
    {
     "data": {
      "text/plain": [
       "0.078501002924945"
      ]
     },
     "execution_count": 39,
     "metadata": {},
     "output_type": "execute_result"
    }
   ],
   "source": [
    "np.std([0.603355,0.751384, 0.783654])"
   ]
  },
  {
   "cell_type": "code",
   "execution_count": 38,
   "metadata": {},
   "outputs": [
    {
     "data": {
      "text/html": [
       "<div>\n",
       "<style scoped>\n",
       "    .dataframe tbody tr th:only-of-type {\n",
       "        vertical-align: middle;\n",
       "    }\n",
       "\n",
       "    .dataframe tbody tr th {\n",
       "        vertical-align: top;\n",
       "    }\n",
       "\n",
       "    .dataframe thead th {\n",
       "        text-align: right;\n",
       "    }\n",
       "</style>\n",
       "<table border=\"1\" class=\"dataframe\">\n",
       "  <thead>\n",
       "    <tr style=\"text-align: right;\">\n",
       "      <th></th>\n",
       "      <th>Spectral Parameter</th>\n",
       "      <th>model</th>\n",
       "      <th>drug</th>\n",
       "      <th>Number</th>\n",
       "      <th>diff-RRDR</th>\n",
       "      <th>auc_mean</th>\n",
       "    </tr>\n",
       "  </thead>\n",
       "  <tbody>\n",
       "    <tr>\n",
       "      <th>143</th>\n",
       "      <td>0.8</td>\n",
       "      <td>CNN</td>\n",
       "      <td>RIF</td>\n",
       "      <td>0</td>\n",
       "      <td>5.0</td>\n",
       "      <td>0.746384</td>\n",
       "    </tr>\n",
       "    <tr>\n",
       "      <th>146</th>\n",
       "      <td>0.8</td>\n",
       "      <td>CNN</td>\n",
       "      <td>RIF</td>\n",
       "      <td>1</td>\n",
       "      <td>10.0</td>\n",
       "      <td>0.750482</td>\n",
       "    </tr>\n",
       "    <tr>\n",
       "      <th>149</th>\n",
       "      <td>0.8</td>\n",
       "      <td>CNN</td>\n",
       "      <td>RIF</td>\n",
       "      <td>2</td>\n",
       "      <td>1.0</td>\n",
       "      <td>0.796604</td>\n",
       "    </tr>\n",
       "  </tbody>\n",
       "</table>\n",
       "</div>"
      ],
      "text/plain": [
       "     Spectral Parameter model drug  Number  diff-RRDR  auc_mean\n",
       "143                 0.8   CNN  RIF       0        5.0  0.746384\n",
       "146                 0.8   CNN  RIF       1       10.0  0.750482\n",
       "149                 0.8   CNN  RIF       2        1.0  0.796604"
      ]
     },
     "execution_count": 38,
     "metadata": {},
     "output_type": "execute_result"
    }
   ],
   "source": [
    "final_result[(final_result['Spectral Parameter'] == 0.8)&(final_result['model'] == 'CNN')]"
   ]
  },
  {
   "cell_type": "code",
   "execution_count": null,
   "metadata": {},
   "outputs": [],
   "source": [
    "np.std([0.74, 0.75m 0.80])"
   ]
  },
  {
   "cell_type": "code",
   "execution_count": 39,
   "metadata": {},
   "outputs": [
    {
     "data": {
      "text/html": [
       "<div>\n",
       "<style scoped>\n",
       "    .dataframe tbody tr th:only-of-type {\n",
       "        vertical-align: middle;\n",
       "    }\n",
       "\n",
       "    .dataframe tbody tr th {\n",
       "        vertical-align: top;\n",
       "    }\n",
       "\n",
       "    .dataframe thead th {\n",
       "        text-align: right;\n",
       "    }\n",
       "</style>\n",
       "<table border=\"1\" class=\"dataframe\">\n",
       "  <thead>\n",
       "    <tr style=\"text-align: right;\">\n",
       "      <th></th>\n",
       "      <th>Spectral Parameter</th>\n",
       "      <th>model</th>\n",
       "      <th>drug</th>\n",
       "      <th>Number</th>\n",
       "      <th>diff-RRDR</th>\n",
       "      <th>auc_mean</th>\n",
       "    </tr>\n",
       "  </thead>\n",
       "  <tbody>\n",
       "    <tr>\n",
       "      <th>181</th>\n",
       "      <td>1.0</td>\n",
       "      <td>ESM2-Finetuned</td>\n",
       "      <td>RIF</td>\n",
       "      <td>0</td>\n",
       "      <td>20.0</td>\n",
       "      <td>0.809722</td>\n",
       "    </tr>\n",
       "    <tr>\n",
       "      <th>184</th>\n",
       "      <td>1.0</td>\n",
       "      <td>ESM2-Finetuned</td>\n",
       "      <td>RIF</td>\n",
       "      <td>1</td>\n",
       "      <td>3.0</td>\n",
       "      <td>0.718479</td>\n",
       "    </tr>\n",
       "    <tr>\n",
       "      <th>187</th>\n",
       "      <td>1.0</td>\n",
       "      <td>ESM2-Finetuned</td>\n",
       "      <td>RIF</td>\n",
       "      <td>2</td>\n",
       "      <td>3.0</td>\n",
       "      <td>0.666934</td>\n",
       "    </tr>\n",
       "  </tbody>\n",
       "</table>\n",
       "</div>"
      ],
      "text/plain": [
       "     Spectral Parameter           model drug  Number  diff-RRDR  auc_mean\n",
       "181                 1.0  ESM2-Finetuned  RIF       0       20.0  0.809722\n",
       "184                 1.0  ESM2-Finetuned  RIF       1        3.0  0.718479\n",
       "187                 1.0  ESM2-Finetuned  RIF       2        3.0  0.666934"
      ]
     },
     "execution_count": 39,
     "metadata": {},
     "output_type": "execute_result"
    }
   ],
   "source": [
    "final_result[(final_result['Spectral Parameter'] == 1.0)&(final_result['model'] == 'ESM2-Finetuned')]"
   ]
  },
  {
   "cell_type": "code",
   "execution_count": 40,
   "metadata": {},
   "outputs": [
    {
     "data": {
      "text/html": [
       "<div>\n",
       "<style scoped>\n",
       "    .dataframe tbody tr th:only-of-type {\n",
       "        vertical-align: middle;\n",
       "    }\n",
       "\n",
       "    .dataframe tbody tr th {\n",
       "        vertical-align: top;\n",
       "    }\n",
       "\n",
       "    .dataframe thead th {\n",
       "        text-align: right;\n",
       "    }\n",
       "</style>\n",
       "<table border=\"1\" class=\"dataframe\">\n",
       "  <thead>\n",
       "    <tr style=\"text-align: right;\">\n",
       "      <th></th>\n",
       "      <th>Spectral Parameter</th>\n",
       "      <th>model</th>\n",
       "      <th>drug</th>\n",
       "      <th>Number</th>\n",
       "      <th>diff-RRDR</th>\n",
       "      <th>auc_mean</th>\n",
       "    </tr>\n",
       "  </thead>\n",
       "  <tbody>\n",
       "    <tr>\n",
       "      <th>180</th>\n",
       "      <td>1.0</td>\n",
       "      <td>ESM2</td>\n",
       "      <td>RIF</td>\n",
       "      <td>0</td>\n",
       "      <td>20.0</td>\n",
       "      <td>0.837158</td>\n",
       "    </tr>\n",
       "    <tr>\n",
       "      <th>183</th>\n",
       "      <td>1.0</td>\n",
       "      <td>ESM2</td>\n",
       "      <td>RIF</td>\n",
       "      <td>1</td>\n",
       "      <td>3.0</td>\n",
       "      <td>0.826214</td>\n",
       "    </tr>\n",
       "    <tr>\n",
       "      <th>186</th>\n",
       "      <td>1.0</td>\n",
       "      <td>ESM2</td>\n",
       "      <td>RIF</td>\n",
       "      <td>2</td>\n",
       "      <td>3.0</td>\n",
       "      <td>0.958816</td>\n",
       "    </tr>\n",
       "  </tbody>\n",
       "</table>\n",
       "</div>"
      ],
      "text/plain": [
       "     Spectral Parameter model drug  Number  diff-RRDR  auc_mean\n",
       "180                 1.0  ESM2  RIF       0       20.0  0.837158\n",
       "183                 1.0  ESM2  RIF       1        3.0  0.826214\n",
       "186                 1.0  ESM2  RIF       2        3.0  0.958816"
      ]
     },
     "execution_count": 40,
     "metadata": {},
     "output_type": "execute_result"
    }
   ],
   "source": [
    "final_result[(final_result['Spectral Parameter'] == 1.0)&(final_result['model'] == 'ESM2')]"
   ]
  },
  {
   "cell_type": "markdown",
   "metadata": {},
   "source": []
  },
  {
   "cell_type": "code",
   "execution_count": 43,
   "metadata": {},
   "outputs": [
    {
     "name": "stderr",
     "output_type": "stream",
     "text": [
      "/Library/Frameworks/Python.framework/Versions/3.7/lib/python3.7/site-packages/ipykernel_launcher.py:21: UserWarning: The palette list has more values (10) than needed (4), which may not be intended.\n",
      "/Library/Frameworks/Python.framework/Versions/3.7/lib/python3.7/site-packages/ipykernel_launcher.py:29: UserWarning: The palette list has more values (10) than needed (4), which may not be intended.\n"
     ]
    },
    {
     "data": {
      "text/plain": [
       "Text(0.5, 0.98, 'RIF CNN Performance versus SP and diff-RRDR')"
      ]
     },
     "execution_count": 43,
     "metadata": {},
     "output_type": "execute_result"
    },
    {
     "data": {
      "image/png": "[encoded data removed]",
      "text/plain": [
       "<Figure size 1080x360 with 2 Axes>"
      ]
     },
     "metadata": {
      "needs_background": "light"
     },
     "output_type": "display_data"
    }
   ],
   "source": [
    "colors = sns.color_palette(\"colorblind\")\n",
    "palette_dict = {model: color for model, color in zip(['CNN', 'ESM2', 'ESM2-Finetuned', 'EVE',\n",
    "                                                    'SeqDesign', 'Logistic Regression'],colors)}\n",
    "palette_dict['Logistic Regression'] = colors[9]\n",
    "\n",
    "f, axes = plt.subplots(1, 2, sharey=True, figsize=(15, 5))\n",
    "\n",
    "def to_highlight(row):\n",
    "    if row['model'] == 'CNN' and row['Spectral Parameter'] == 0.95:\n",
    "        return 'SP 0.95 Split'\n",
    "    elif row['model'] == 'CNN' and row['Spectral Parameter'] == 1.0:\n",
    "        return 'SP 1.0 Split'\n",
    "    elif row['model'] == 'CNN' and row['Spectral Parameter'] == 0.90:\n",
    "        return 'SP 0.90 Split'\n",
    "    else:\n",
    "        return 'Other'\n",
    "\n",
    "final_result['to_highlight'] = final_result.apply(to_highlight, axis=1)\n",
    "\n",
    "ax_1 = sns.scatterplot(data = final_result[(final_result['model'] == 'CNN')], x = 'Spectral Parameter', y = 'auc_mean', \n",
    "                       hue='to_highlight',s=100, palette=colors,  ax=axes[0])\n",
    "ax_1.set_ylabel('Test AUROC', fontsize=20, family='Arial')\n",
    "ax_1.tick_params(axis='both', which='major', labelsize=15)\n",
    "ax_1.set_xlabel('SP', fontsize=20, family='Arial')\n",
    "ax_1.spines[['right', 'top']].set_visible(False)\n",
    "ax_1.get_legend().remove()\n",
    "\n",
    "ax_2 = sns.scatterplot(data = final_result[(final_result['model'] == 'CNN')], x = 'diff-RRDR', y = 'auc_mean', \n",
    "                       hue='to_highlight', s=100, palette=colors, ax=axes[1])\n",
    "ax_2.set_ylabel('Test AUROC', fontsize=20, family='Arial')\n",
    "ax_2.tick_params(axis='both', which='major', labelsize=15)\n",
    "ax_2.set_xlabel('diff-RRDR', fontsize=20, family='Arial')\n",
    "ax_2.spines[['right', 'top']].set_visible(False)\n",
    "ax_2.get_legend().remove()\n",
    "\n",
    "sns.set_context(\"paper\")\n",
    "\n",
    "f.suptitle('RIF CNN Performance versus SP and diff-RRDR',fontsize=20, family='Arial') # or plt.suptitle('Main title')\n",
    "#plt.savefig('Fig4d_CNN_diff_RRDR.pdf')"
   ]
  },
  {
   "cell_type": "code",
   "execution_count": 45,
   "metadata": {},
   "outputs": [
    {
     "name": "stderr",
     "output_type": "stream",
     "text": [
      "/Library/Frameworks/Python.framework/Versions/3.7/lib/python3.7/site-packages/ipykernel_launcher.py:21: UserWarning: The palette list has more values (10) than needed (4), which may not be intended.\n",
      "/Library/Frameworks/Python.framework/Versions/3.7/lib/python3.7/site-packages/ipykernel_launcher.py:29: UserWarning: The palette list has more values (10) than needed (4), which may not be intended.\n"
     ]
    },
    {
     "data": {
      "image/png": "[encoded data removed]",
      "text/plain": [
       "<Figure size 1080x360 with 2 Axes>"
      ]
     },
     "metadata": {
      "needs_background": "light"
     },
     "output_type": "display_data"
    }
   ],
   "source": [
    "colors = sns.color_palette(\"colorblind\")\n",
    "palette_dict = {model: color for model, color in zip(['CNN', 'ESM2', 'ESM2-Finetuned', 'EVE',\n",
    "                                                    'SeqDesign', 'Logistic Regression'],colors)}\n",
    "palette_dict['Logistic Regression'] = colors[9]\n",
    "\n",
    "f, axes = plt.subplots(1, 2, sharey=True, figsize=(15, 5))\n",
    "\n",
    "def to_highlight(row):\n",
    "    if row['model'] == 'ESM2' and row['Spectral Parameter'] == 0.95:\n",
    "        return 'SP 0.95 Split'\n",
    "    elif row['model'] == 'ESM2' and row['Spectral Parameter'] == 1.0:\n",
    "        return 'SP 1.0 Split'\n",
    "    elif row['model'] == 'ESM2' and row['Spectral Parameter'] == 0.90:\n",
    "        return 'SP 0.90 Split'\n",
    "    else:\n",
    "        return 'Other'\n",
    "\n",
    "final_result['to_highlight'] = final_result.apply(to_highlight, axis=1)\n",
    "\n",
    "ax_1 = sns.scatterplot(data = final_result[(final_result['model'] == 'ESM2')], x = 'Spectral Parameter', y = 'auc_mean', \n",
    "                       hue='to_highlight',s=100, palette=colors,  ax=axes[0])\n",
    "ax_1.set_ylabel('Test AUROC', fontsize=20, family='Arial')\n",
    "ax_1.tick_params(axis='both', which='major', labelsize=15)\n",
    "ax_1.set_xlabel('SP', fontsize=20, family='Arial')\n",
    "ax_1.spines[['right', 'top']].set_visible(False)\n",
    "ax_1.get_legend().remove()\n",
    "\n",
    "ax_2 = sns.scatterplot(data = final_result[(final_result['model'] == 'ESM2')], x = 'diff-RRDR', y = 'auc_mean', \n",
    "                       hue='to_highlight', s=100, palette=colors, ax=axes[1])\n",
    "ax_2.set_ylabel('Test AUROC', fontsize=20, family='Arial')\n",
    "ax_2.tick_params(axis='both', which='major', labelsize=15)\n",
    "ax_2.set_xlabel('diff-RRDR', fontsize=20, family='Arial')\n",
    "ax_2.spines[['right', 'top']].set_visible(False)\n",
    "ax_2.get_legend().remove()\n",
    "\n",
    "sns.set_context(\"paper\")\n",
    "\n",
    "f.suptitle('RIF ESM2 Performance versus SP and diff-RRDR',fontsize=20, family='Arial') # or plt.suptitle('Main title')\n",
    "plt.savefig('Fig4d_ESM2_diff_RRDR.pdf')"
   ]
  },
  {
   "cell_type": "code",
   "execution_count": null,
   "metadata": {},
   "outputs": [],
   "source": []
  }
 ],
 "metadata": {
  "kernelspec": {
   "display_name": "Python 3",
   "language": "python",
   "name": "python3"
  },
  "language_info": {
   "codemirror_mode": {
    "name": "ipython",
    "version": 3
   },
   "file_extension": ".py",
   "mimetype": "text/x-python",
   "name": "python",
   "nbconvert_exporter": "python",
   "pygments_lexer": "ipython3",
   "version": "3.7.2"
  }
 },
 "nbformat": 4,
 "nbformat_minor": 2
}
