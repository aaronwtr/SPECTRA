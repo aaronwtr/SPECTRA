{
 "cells": [
  {
   "cell_type": "code",
   "execution_count": 1,
   "metadata": {},
   "outputs": [],
   "source": [
    "import numpy as np\n",
    "import matplotlib.pyplot as plt\n",
    "import networkx as nx\n",
    "import random\n",
    "from random import sample"
   ]
  },
  {
   "cell_type": "code",
   "execution_count": 2,
   "metadata": {},
   "outputs": [],
   "source": [
    "def run_independent_set(neighbor_lambda, input_G, tau_number, tau_mut, tau_degree, seed = None, debug=False, random_start = True):\n",
    "    total_deleted = 0\n",
    "    \n",
    "    if seed is not None:\n",
    "        random.seed(seed)\n",
    "    \n",
    "    G = input_G.copy()\n",
    "\n",
    "    independent_set = []\n",
    "    \n",
    "    iterations = 0\n",
    "    \n",
    "    while not nx.is_empty(G):\n",
    "        if not random_start:\n",
    "            chosen_node = max(node_to_score, key=node_to_score.get)\n",
    "        else:\n",
    "            chosen_node = sample(list(G.nodes()), 1)[0]\n",
    "        \n",
    "        independent_set.append(chosen_node)\n",
    "        neighbors = G.neighbors(chosen_node)\n",
    "        neighbors_to_delete = []\n",
    "        \n",
    "        for neighbor in neighbors:\n",
    "            if neighbor_lambda == 1.0:\n",
    "                neighbors_to_delete.append(neighbor)\n",
    "            elif neighbor_lambda != 0.0:\n",
    "                if random.random() < neighbor_lambda:\n",
    "                    neighbors_to_delete.append(neighbor)\n",
    "\n",
    "        if debug:\n",
    "            print(f\"Iteration {iterations} Stats\")\n",
    "            print(f\"Deleted {len(neighbors_to_delete)} nodes\")\n",
    "\n",
    "        for neighbor in neighbors_to_delete:\n",
    "            G.remove_node(neighbor)\n",
    "        \n",
    "        if chosen_node not in neighbors_to_delete:\n",
    "            G.remove_node(chosen_node)\n",
    "    \n",
    "        iterations += 1\n",
    "    \n",
    "    independent_set.append('NO_MUTATION')\n",
    "    if debug:\n",
    "        print(f\"Total deleted {total_deleted}\")\n",
    "    return independent_set"
   ]
  },
  {
   "cell_type": "code",
   "execution_count": 3,
   "metadata": {},
   "outputs": [],
   "source": [
    "G = nx.Graph()"
   ]
  },
  {
   "cell_type": "code",
   "execution_count": 4,
   "metadata": {},
   "outputs": [],
   "source": [
    "count_to_name = {}\n",
    "name_to_count = {}\n",
    "counts_to_similarity = {}\n",
    "# total_similarities = []\n",
    "\n",
    "\n",
    "count = 0\n",
    "\n",
    "counter = 0\n",
    "for line in open('localization_sequences_comparison', 'r'):\n",
    "    data = line.split('\\t')\n",
    "    \n",
    "    one = data[0]\n",
    "    if one not in name_to_count:\n",
    "        count_to_name[count] = one\n",
    "        name_to_count[one] = count\n",
    "        G.add_node(count)\n",
    "        count += 1\n",
    "\n",
    "    two = data[1]\n",
    "    if two not in name_to_count:\n",
    "        count_to_name[count] = two\n",
    "        name_to_count[two] = count\n",
    "        G.add_node(count)\n",
    "        count += 1\n",
    "    \n",
    "    similarities = float(data[2])\n",
    "    if similarities > 0.3:\n",
    "        G.add_edge(name_to_count[one], name_to_count[two], similarity = similarities)\n",
    "    counts_to_similarity[f'{name_to_count[one]}-{name_to_count[two]}'] = similarities\n",
    "    counter += 1"
   ]
  },
  {
   "cell_type": "code",
   "execution_count": 6,
   "metadata": {},
   "outputs": [],
   "source": [
    "import pickle\n",
    "pickle.dump(counts_to_similarity, open('counts_to_similarity', 'wb'))"
   ]
  },
  {
   "cell_type": "code",
   "execution_count": 3,
   "metadata": {},
   "outputs": [],
   "source": [
    "import pickle\n",
    "counts_to_similarity = pickle.load(open('counts_to_similarity', 'rb'))"
   ]
  },
  {
   "cell_type": "code",
   "execution_count": 6,
   "metadata": {},
   "outputs": [],
   "source": [
    "nx.write_gexf(G, \"not_annotated_localization.gexf\")"
   ]
  },
  {
   "cell_type": "code",
   "execution_count": 2,
   "metadata": {},
   "outputs": [],
   "source": [
    "G = nx.read_gexf('not_annotated_localization.gexf')"
   ]
  },
  {
   "cell_type": "code",
   "execution_count": 3,
   "metadata": {},
   "outputs": [
    {
     "name": "stdout",
     "output_type": "stream",
     "text": [
      "13949\n",
      "55130\n",
      "7557\n"
     ]
    }
   ],
   "source": [
    "print(G.number_of_nodes())\n",
    "print(G.number_of_edges())\n",
    "print(nx.number_connected_components(G))"
   ]
  },
  {
   "cell_type": "code",
   "execution_count": 6,
   "metadata": {},
   "outputs": [
    {
     "data": {
      "text/plain": [
       "55130"
      ]
     },
     "execution_count": 6,
     "metadata": {},
     "output_type": "execute_result"
    }
   ],
   "source": [
    "G.number_of_edges()"
   ]
  },
  {
   "cell_type": "code",
   "execution_count": 7,
   "metadata": {},
   "outputs": [],
   "source": [
    "result = run_independent_set(0, G, 0, 0, 0)"
   ]
  },
  {
   "cell_type": "code",
   "execution_count": 8,
   "metadata": {},
   "outputs": [
    {
     "data": {
      "text/plain": [
       "13950"
      ]
     },
     "execution_count": 8,
     "metadata": {},
     "output_type": "execute_result"
    }
   ],
   "source": [
    "len(result)"
   ]
  },
  {
   "cell_type": "code",
   "execution_count": 9,
   "metadata": {},
   "outputs": [],
   "source": [
    "from sklearn.model_selection import train_test_split\n",
    "x_train ,x_test = train_test_split(result,test_size=0.2) "
   ]
  },
  {
   "cell_type": "code",
   "execution_count": 10,
   "metadata": {},
   "outputs": [
    {
     "data": {
      "text/plain": [
       "13950"
      ]
     },
     "execution_count": 10,
     "metadata": {},
     "output_type": "execute_result"
    }
   ],
   "source": [
    "len(x_train) + len(x_test)"
   ]
  },
  {
   "cell_type": "code",
   "execution_count": 11,
   "metadata": {},
   "outputs": [],
   "source": [
    "def calculate_proportion(x_train, x_test):\n",
    "    over_thirty = 0\n",
    "\n",
    "    for i in x_train:\n",
    "        for j in x_test:\n",
    "            if f'{i}-{j}' in counts_to_similarity:\n",
    "                resultat = counts_to_similarity[f'{i}-{j}']\n",
    "                if resultat > 0.3:\n",
    "                    over_thirty += 1\n",
    "                    break\n",
    "    \n",
    "    return over_thirty/len(x_train)\n",
    "    "
   ]
  },
  {
   "cell_type": "code",
   "execution_count": 12,
   "metadata": {},
   "outputs": [],
   "source": [
    "calculated_proportions = []\n",
    "lambda_params = []\n",
    "number_samples = []\n",
    "\n",
    "for lambda_param in np.arange(0, 1.05, 0.025):\n",
    "    lambda_params.append(lambda_param)\n",
    "    result = run_independent_set(lambda_param, G, 0, 0, 0)\n",
    "    x_train ,x_test = train_test_split(result,test_size=0.2) \n",
    "    calculated_proportions.append(calculate_proportion(x_train, x_test))\n",
    "    number_samples.append(len(result))\n",
    "    "
   ]
  },
  {
   "cell_type": "code",
   "execution_count": 13,
   "metadata": {},
   "outputs": [],
   "source": [
    "pickle.dump(calculated_proportions, open('calc_prop', 'wb'))\n",
    "pickle.dump(lambda_params, open('lambda_params', 'wb'))\n",
    "pickle.dump(number_samples, open('number_samples', 'wb'))"
   ]
  },
  {
   "cell_type": "code",
   "execution_count": 23,
   "metadata": {},
   "outputs": [
    {
     "data": {
      "image/png": "[encoded data removed]",
      "text/plain": [
       "<Figure size 640x480 with 2 Axes>"
      ]
     },
     "metadata": {},
     "output_type": "display_data"
    }
   ],
   "source": [
    "f, (ax1, ax2) = plt.subplots(1, 2, sharey=False)\n",
    "ax1.scatter(lambda_params, calculated_proportions)\n",
    "ax1.set_ylabel('Cross-split overlap')\n",
    "ax1.set_xlabel('Separation parameter')\n",
    "ax1.spines[['right', 'top']].set_visible(False)\n",
    "ax2.scatter(lambda_params, number_samples)\n",
    "ax2.set_ylabel('Number of samples')\n",
    "ax2.set_xlabel('Separation parameter')\n",
    "ax2.spines[['right', 'top']].set_visible(False)\n",
    "plt.tight_layout()\n",
    "plt.savefig('PEER_Localization_Spectra_Stats.pdf')"
   ]
  },
  {
   "cell_type": "code",
   "execution_count": 14,
   "metadata": {},
   "outputs": [
    {
     "data": {
      "text/plain": [
       "<matplotlib.collections.PathCollection at 0x7f9e430b7b20>"
      ]
     },
     "execution_count": 14,
     "metadata": {},
     "output_type": "execute_result"
    },
    {
     "data": {
      "image/png": "[encoded data removed]",
      "text/plain": [
       "<Figure size 640x480 with 1 Axes>"
      ]
     },
     "metadata": {},
     "output_type": "display_data"
    }
   ],
   "source": [
    "plt.scatter(lambda_params, calculated_proportions)"
   ]
  },
  {
   "cell_type": "code",
   "execution_count": 54,
   "metadata": {
    "scrolled": false
   },
   "outputs": [],
   "source": [
    "def find_closest(overlap, x, y):\n",
    "    min_difference = 1000000\n",
    "    best_overlap = None\n",
    "    best_param = None\n",
    "    \n",
    "    \n",
    "    for i,j in zip(x, y):\n",
    "        if abs(overlap - j) < min_difference:\n",
    "            best_param = i\n",
    "            best_overlap = j\n",
    "            min_difference = abs(overlap - j)\n",
    "    \n",
    "    print(f\"{best_overlap} and {best_param} for {overlap}\")"
   ]
  },
  {
   "cell_type": "code",
   "execution_count": 56,
   "metadata": {},
   "outputs": [
    {
     "name": "stdout",
     "output_type": "stream",
     "text": [
      "0.2555724644167935 and 0.05 for 0.2515328019619865\n"
     ]
    }
   ],
   "source": [
    "find_closest(0.2515328019619865, lambda_params, calculated_proportions)"
   ]
  },
  {
   "cell_type": "markdown",
   "metadata": {},
   "source": [
    "# Calculate overlap in existing splits"
   ]
  },
  {
   "cell_type": "code",
   "execution_count": 16,
   "metadata": {},
   "outputs": [],
   "source": [
    "train_counts = [name_to_count[i.rstrip()] for i in open('localization_train', 'r') if i.rstrip() in name_to_count]\n",
    "test_counts = [name_to_count[i.rstrip()] for i in open('localization_test', 'r') if i.rstrip() in name_to_count]\n",
    "# test_fold = [name_to_count[i.rstrip()] for i in open('test_fold', 'r') if i.rstrip() in name_to_count]\n",
    "# test_family = [name_to_count[i.rstrip()] for i in open('test_family', 'r') if i.rstrip() in name_to_count]\n",
    "# test_superfamily = [name_to_count[i.rstrip()] for i in open('test_superfamily', 'r') if i.rstrip() in name_to_count]\n",
    "\n"
   ]
  },
  {
   "cell_type": "code",
   "execution_count": 18,
   "metadata": {},
   "outputs": [],
   "source": [
    "def find_closest(overlap, x, y):\n",
    "    min_difference = 1000000\n",
    "    best_overlap = None\n",
    "    best_param = None\n",
    "    \n",
    "    \n",
    "    for i,j in zip(x, y):\n",
    "        if abs(overlap - j) < min_difference:\n",
    "            best_param = i\n",
    "            best_overlap = j\n",
    "            min_difference = abs(overlap - j)\n",
    "    \n",
    "    print(f\"{best_overlap} and {best_param} for {overlap}\")"
   ]
  },
  {
   "cell_type": "code",
   "execution_count": 19,
   "metadata": {},
   "outputs": [
    {
     "name": "stdout",
     "output_type": "stream",
     "text": [
      "0.06766984240049861\n",
      "0.06611475221340692 and 0.325 for 0.06766984240049861\n"
     ]
    }
   ],
   "source": [
    "t = calculate_proportion(train_counts, test_counts)\n",
    "print(t)\n",
    "find_closest(t, lambda_params, calculated_proportions)"
   ]
  },
  {
   "cell_type": "code",
   "execution_count": null,
   "metadata": {},
   "outputs": [],
   "source": []
  }
 ],
 "metadata": {
  "kernelspec": {
   "display_name": "Python 3",
   "language": "python",
   "name": "python3"
  },
  "language_info": {
   "codemirror_mode": {
    "name": "ipython",
    "version": 3
   },
   "file_extension": ".py",
   "mimetype": "text/x-python",
   "name": "python",
   "nbconvert_exporter": "python",
   "pygments_lexer": "ipython3",
   "version": "3.8.4"
  }
 },
 "nbformat": 4,
 "nbformat_minor": 4
}
